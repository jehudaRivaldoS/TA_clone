{
 "cells": [
  {
   "cell_type": "code",
   "execution_count": 1,
   "id": "c1c3d9d7",
   "metadata": {},
   "outputs": [],
   "source": [
    "#Import Library\n",
    "import pandas as pd\n",
    "import tensorflow as tf\n",
    "import numpy as np\n",
    "import matplotlib.pyplot as plt\n",
    "from sklearn.model_selection import train_test_split\n",
    "from tensorflow.keras.preprocessing.sequence import pad_sequences\n",
    "from tensorflow.keras.utils import to_categorical\n",
    "from tensorflow.keras.models import Sequential\n",
    "from tensorflow.keras.layers import LSTM, Dense, Dropout, Embedding, Bidirectional \n",
    "from sklearn.metrics import accuracy_score\n",
    "from sklearn.metrics import classification_report\n",
    "from keras.preprocessing.text import Tokenizer\n",
    "from sklearn.preprocessing import LabelEncoder\n",
    "from sklearn.metrics import confusion_matrix"
   ]
  },
  {
   "cell_type": "code",
   "execution_count": 2,
   "id": "56ed3813",
   "metadata": {},
   "outputs": [],
   "source": [
    "#load dataset after preprocessing\n",
    "dsa = pd.read_csv('data_ap_s_a_f.csv')"
   ]
  },
  {
   "cell_type": "code",
   "execution_count": 3,
   "id": "936e3b4b",
   "metadata": {},
   "outputs": [
    {
     "data": {
      "image/png": "[encoded data removed]",
      "text/plain": [
       "<Figure size 432x288 with 1 Axes>"
      ]
     },
     "metadata": {
      "needs_background": "light"
     },
     "output_type": "display_data"
    }
   ],
   "source": [
    "count_label = dsa['Fasilitas'].value_counts()\n",
    "\n",
    "# Membuat diagram batang\n",
    "plt.bar(count_label.index, count_label.values)\n",
    "plt.xticks([0, 1])\n",
    "plt.xlabel('Label')\n",
    "plt.ylabel('Jumlah Data')\n",
    "plt.title('Distribusi Label pada Dataset')\n",
    "plt.show()"
   ]
  },
  {
   "cell_type": "code",
   "execution_count": null,
   "id": "0eff25e0",
   "metadata": {},
   "outputs": [
    {
     "name": "stdout",
     "output_type": "stream",
     "text": [
      "Epoch 1/10\n"
     ]
    }
   ],
   "source": [
    "#Model Sentiment with Sastrawi stopword and Nazief Adriani Stemmer\n",
    "texts = dsa['Ulasan']\n",
    "labels = dsa['Fasilitas']\n",
    "\n",
    "#Tokenizer and Pad Sequence\n",
    "dsa_token = Tokenizer(num_words=10000, oov_token='<OOV>')\n",
    "dsa_token.fit_on_texts(texts)\n",
    "X = dsa_token.texts_to_sequences(texts)\n",
    "X = pad_sequences(X, maxlen=50, padding='post')\n",
    "y = labels\n",
    "le = LabelEncoder()\n",
    "y = le.fit_transform(y)\n",
    "inputembedd = len(dsa_token.word_index) + 1\n",
    "\n",
    "#Train test split\n",
    "X_train, X_test, y_train, y_test = train_test_split(X, y, test_size=0.2,stratify = y,  random_state=42)\n",
    "\n",
    "#Define LSTM model\n",
    "model2 = Sequential()\n",
    "model2.add(Embedding(input_dim = inputembedd, input_length = 50, output_dim = 50))\n",
    "model2.add(Bidirectional(LSTM(units = 64, dropout = 0.2, return_sequences = True)))\n",
    "model2.add(Dropout(0.6))\n",
    "model2.add(Dense(64, activation='relu'))\n",
    "model2.add(Dropout(0.5))\n",
    "model2.add(Dense(32, activation='relu'))\n",
    "model2.add(Bidirectional(LSTM(units = 32)))\n",
    "model2.add(Dropout(0.4))\n",
    "model2.add(Dense(1, activation='sigmoid'))\n",
    "\n",
    "# Compile model\n",
    "model2.compile(loss='binary_crossentropy', optimizer=\"adam\", metrics=['accuracy'])\n",
    "\n",
    "# Train model\n",
    "history = model2.fit(X_train, y_train, epochs=10, validation_split=0.2, batch_size=64)\n",
    "\n",
    "# Evaluate model on test set\n",
    "loss, accuracy = model2.evaluate(X_test, y_test, verbose=0)\n",
    "print('Test loss:', loss)\n",
    "print('Test accuracy:', accuracy)\n",
    "\n",
    "y_pred = model2.predict(X_test)\n",
    "y_pred = np.round(y_pred).astype(int)\n",
    "report = classification_report(y_test, y_pred)\n",
    "print(report)\n",
    "\n",
    "cm = confusion_matrix(y_test, y_pred)\n",
    "print(cm)\n",
    "\n",
    "# Plot grafik\n",
    "train_loss = history.history['loss']\n",
    "ac = history.history['val_loss']\n",
    "plt.plot(train_loss, label='Training Loss')\n",
    "plt.plot(ac, label='Val Loss')\n",
    "plt.title('Training and Val Loss')\n",
    "plt.xlabel('Epoch')\n",
    "plt.ylabel('Loss')\n",
    "plt.legend()\n",
    "plt.show()\n",
    "train_loss = history.history['accuracy']\n",
    "ac = history.history['val_accuracy']\n",
    "plt.plot(train_loss, label='Training Accuracy')\n",
    "plt.plot(ac, label='Val Accuracy')\n",
    "plt.title('Training and Val Accuracy')\n",
    "plt.xlabel('Epoch')\n",
    "plt.ylabel('Acc')\n",
    "plt.legend()\n",
    "plt.show()"
   ]
  },
  {
   "cell_type": "code",
   "execution_count": 22,
   "id": "bb7bdd77",
   "metadata": {},
   "outputs": [],
   "source": [
    "model2.save('s_a_f.h5')"
   ]
  }
 ],
 "metadata": {
  "kernelspec": {
   "display_name": "Python 3",
   "language": "python",
   "name": "python3"
  },
  "language_info": {
   "codemirror_mode": {
    "name": "ipython",
    "version": 3
   },
   "file_extension": ".py",
   "mimetype": "text/x-python",
   "name": "python",
   "nbconvert_exporter": "python",
   "pygments_lexer": "ipython3",
   "version": "3.8.8"
  }
 },
 "nbformat": 4,
 "nbformat_minor": 5
}
