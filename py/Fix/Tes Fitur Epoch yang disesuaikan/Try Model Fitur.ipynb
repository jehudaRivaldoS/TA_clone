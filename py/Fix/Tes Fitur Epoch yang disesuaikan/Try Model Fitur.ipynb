{
 "cells": [
  {
   "cell_type": "code",
   "execution_count": 19,
   "id": "17a0725b",
   "metadata": {},
   "outputs": [],
   "source": [
    "import tensorflow as tf\n",
    "import numpy as np\n",
    "import pandas as pd\n",
    "from keras.preprocessing.text import Tokenizer\n",
    "from sklearn.preprocessing import LabelEncoder\n",
    "from sklearn.metrics import accuracy_score\n",
    "from sklearn.metrics import classification_report\n",
    "from keras.preprocessing.sequence import pad_sequences\n",
    "from sklearn.preprocessing import LabelEncoder\n",
    "from sklearn.metrics import accuracy_score\n",
    "from sklearn.metrics import classification_report\n",
    "from sklearn.metrics import confusion_matrix"
   ]
  },
  {
   "cell_type": "code",
   "execution_count": 27,
   "id": "4b559b1d",
   "metadata": {},
   "outputs": [],
   "source": [
    "#Load model\n",
    "k = tf.keras.models.load_model('s_a_kn.h5')\n",
    "w = tf.keras.models.load_model('s_a_wn.h5')\n",
    "p = tf.keras.models.load_model('s_a_pn.h5')\n",
    "f = tf.keras.models.load_model('s_a_fn.h5')"
   ]
  },
  {
   "cell_type": "code",
   "execution_count": 21,
   "id": "6df21f63",
   "metadata": {},
   "outputs": [],
   "source": [
    "#load dataset after preprocessing\n",
    "d = pd.read_csv('data_ap_s_a.csv')"
   ]
  },
  {
   "cell_type": "code",
   "execution_count": 22,
   "id": "6760503c",
   "metadata": {},
   "outputs": [],
   "source": [
    "#load data test after preprocessing\n",
    "t = pd.read_csv('tes.csv')\n",
    "tv = pd.read_csv('v.csv')"
   ]
  },
  {
   "cell_type": "code",
   "execution_count": 23,
   "id": "81f77a56",
   "metadata": {},
   "outputs": [
    {
     "name": "stdout",
     "output_type": "stream",
     "text": [
      "Accuracy: 0.92\n",
      "[[44  2]\n",
      " [ 2  2]]\n",
      "              precision    recall  f1-score   support\n",
      "\n",
      "           0       0.96      0.96      0.96        46\n",
      "           1       0.50      0.50      0.50         4\n",
      "\n",
      "    accuracy                           0.92        50\n",
      "   macro avg       0.73      0.73      0.73        50\n",
      "weighted avg       0.92      0.92      0.92        50\n",
      "\n"
     ]
    }
   ],
   "source": [
    "# Kuliner\n",
    "# Preprocess data\n",
    "tokenizer = Tokenizer(num_words=10000, oov_token='<OOV>')\n",
    "tokenizer.fit_on_texts(d['Ulasan'].astype(str))\n",
    "X = tokenizer.texts_to_sequences(tv['ulasan'].astype(str))\n",
    "X = pad_sequences(X, maxlen=50, padding='post')\n",
    "\n",
    "# Make predictions\n",
    "predictions = k.predict(X)\n",
    "rounded_predictions = np.round(predictions).astype(int)\n",
    "\n",
    "accuracy = accuracy_score(tv['kuliner'], rounded_predictions)\n",
    "report = classification_report(tv['kuliner'], rounded_predictions)\n",
    "cm = confusion_matrix(tv['kuliner'], rounded_predictions)\n",
    "\n",
    "print('Accuracy:', accuracy)\n",
    "print(cm)\n",
    "print(report)"
   ]
  },
  {
   "cell_type": "code",
   "execution_count": 24,
   "id": "16ffc468",
   "metadata": {},
   "outputs": [
    {
     "name": "stdout",
     "output_type": "stream",
     "text": [
      "Accuracy: 0.84\n",
      "[[36  6]\n",
      " [ 2  6]]\n",
      "              precision    recall  f1-score   support\n",
      "\n",
      "           0       0.95      0.86      0.90        42\n",
      "           1       0.50      0.75      0.60         8\n",
      "\n",
      "    accuracy                           0.84        50\n",
      "   macro avg       0.72      0.80      0.75        50\n",
      "weighted avg       0.88      0.84      0.85        50\n",
      "\n"
     ]
    }
   ],
   "source": [
    "# Wahana\n",
    "# Preprocess data\n",
    "tokenizer = Tokenizer(num_words=10000, oov_token='<OOV>')\n",
    "tokenizer.fit_on_texts(d['Ulasan'].astype(str))\n",
    "X = tokenizer.texts_to_sequences(tv['ulasan'].astype(str))\n",
    "X = pad_sequences(X, maxlen=50, padding='post')\n",
    "\n",
    "# Make predictions\n",
    "predictions = w.predict(X)\n",
    "rounded_predictions = np.round(predictions).astype(int)\n",
    "\n",
    "accuracy = accuracy_score(tv['wahana'], rounded_predictions)\n",
    "report = classification_report(tv['wahana'], rounded_predictions)\n",
    "cm = confusion_matrix(tv['wahana'], rounded_predictions)\n",
    "\n",
    "print('Accuracy:', accuracy)\n",
    "print(cm)\n",
    "print(report)"
   ]
  },
  {
   "cell_type": "code",
   "execution_count": 25,
   "id": "ad26b849",
   "metadata": {},
   "outputs": [
    {
     "name": "stdout",
     "output_type": "stream",
     "text": [
      "Accuracy: 1.0\n",
      "[[49  0]\n",
      " [ 0  1]]\n",
      "              precision    recall  f1-score   support\n",
      "\n",
      "           0       1.00      1.00      1.00        49\n",
      "           1       1.00      1.00      1.00         1\n",
      "\n",
      "    accuracy                           1.00        50\n",
      "   macro avg       1.00      1.00      1.00        50\n",
      "weighted avg       1.00      1.00      1.00        50\n",
      "\n"
     ]
    }
   ],
   "source": [
    "# Pelayanan\n",
    "# Preprocess data\n",
    "tokenizer = Tokenizer(num_words=10000, oov_token='<OOV>')\n",
    "tokenizer.fit_on_texts(d['Ulasan'].astype(str))\n",
    "X = tokenizer.texts_to_sequences(tv['ulasan'].astype(str))\n",
    "X = pad_sequences(X, maxlen=50, padding='post')\n",
    "\n",
    "# Make predictions\n",
    "predictions = p.predict(X)\n",
    "rounded_predictions = np.round(predictions).astype(int)\n",
    "\n",
    "accuracy = accuracy_score(tv['pelayanan'], rounded_predictions)\n",
    "report = classification_report(tv['pelayanan'], rounded_predictions)\n",
    "cm = confusion_matrix(tv['pelayanan'], rounded_predictions)\n",
    "\n",
    "print('Accuracy:', accuracy)\n",
    "print(cm)\n",
    "print(report)"
   ]
  },
  {
   "cell_type": "code",
   "execution_count": 28,
   "id": "cd9692b6",
   "metadata": {},
   "outputs": [
    {
     "name": "stdout",
     "output_type": "stream",
     "text": [
      "Accuracy: 0.82\n",
      "[[29  3]\n",
      " [ 6 12]]\n",
      "              precision    recall  f1-score   support\n",
      "\n",
      "           0       0.83      0.91      0.87        32\n",
      "           1       0.80      0.67      0.73        18\n",
      "\n",
      "    accuracy                           0.82        50\n",
      "   macro avg       0.81      0.79      0.80        50\n",
      "weighted avg       0.82      0.82      0.82        50\n",
      "\n"
     ]
    }
   ],
   "source": [
    "# Fasilitas\n",
    "# Preprocess data\n",
    "tokenizer = Tokenizer(num_words=10000, oov_token='<OOV>')\n",
    "tokenizer.fit_on_texts(d['Ulasan'].astype(str))\n",
    "X = tokenizer.texts_to_sequences(tv['ulasan'].astype(str))\n",
    "X = pad_sequences(X, maxlen=50, padding='post')\n",
    "\n",
    "# Make predictions\n",
    "predictions = f.predict(X)\n",
    "rounded_predictions = np.round(predictions).astype(int)\n",
    "\n",
    "\n",
    "accuracy = accuracy_score(tv['fasilitas'], rounded_predictions)\n",
    "report = classification_report(tv['fasilitas'], rounded_predictions)\n",
    "cm = confusion_matrix(tv['fasilitas'], rounded_predictions)\n",
    "\n",
    "print('Accuracy:', accuracy)\n",
    "print(cm)\n",
    "print(report)"
   ]
  }
 ],
 "metadata": {
  "kernelspec": {
   "display_name": "Python 3",
   "language": "python",
   "name": "python3"
  },
  "language_info": {
   "codemirror_mode": {
    "name": "ipython",
    "version": 3
   },
   "file_extension": ".py",
   "mimetype": "text/x-python",
   "name": "python",
   "nbconvert_exporter": "python",
   "pygments_lexer": "ipython3",
   "version": "3.8.8"
  }
 },
 "nbformat": 4,
 "nbformat_minor": 5
}
