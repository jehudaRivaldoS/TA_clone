{
 "cells": [
  {
   "cell_type": "code",
   "execution_count": 1,
   "id": "17a0725b",
   "metadata": {},
   "outputs": [],
   "source": [
    "import tensorflow as tf\n",
    "import numpy as np\n",
    "import pandas as pd\n",
    "from keras.preprocessing.text import Tokenizer\n",
    "from sklearn.preprocessing import LabelEncoder\n",
    "from sklearn.metrics import accuracy_score\n",
    "from sklearn.metrics import classification_report\n",
    "from keras.preprocessing.sequence import pad_sequences\n",
    "from sklearn.preprocessing import LabelEncoder\n",
    "from sklearn.metrics import accuracy_score\n",
    "from sklearn.metrics import classification_report\n",
    "from sklearn.metrics import confusion_matrix"
   ]
  },
  {
   "cell_type": "code",
   "execution_count": 3,
   "id": "4b559b1d",
   "metadata": {},
   "outputs": [],
   "source": [
    "#Load model\n",
    "na = tf.keras.models.load_model('n_as.h5')\n",
    "ns = tf.keras.models.load_model('n_sn.h5')\n",
    "sa = tf.keras.models.load_model('s_an.h5')\n",
    "ss = tf.keras.models.load_model('s_sn.h5')"
   ]
  },
  {
   "cell_type": "code",
   "execution_count": 4,
   "id": "6df21f63",
   "metadata": {},
   "outputs": [],
   "source": [
    "#load dataset after preprocessing\n",
    "dna = pd.read_csv('data_ap_n_a.csv')\n",
    "dns = pd.read_csv('data_ap_n_s.csv')\n",
    "dsa = pd.read_csv('data_ap_s_a.csv')\n",
    "dss = pd.read_csv('data_ap_s_s.csv')"
   ]
  },
  {
   "cell_type": "code",
   "execution_count": 5,
   "id": "6760503c",
   "metadata": {},
   "outputs": [],
   "source": [
    "#load data test after preprocessing\n",
    "tna = pd.read_csv('v_ap_n_a.csv')\n",
    "tns = pd.read_csv('v_ap_n_s.csv')\n",
    "tsa = pd.read_csv('v_ap_s_a.csv')\n",
    "tss = pd.read_csv('v_ap_s_s.csv')"
   ]
  },
  {
   "cell_type": "code",
   "execution_count": 6,
   "id": "906eb095",
   "metadata": {},
   "outputs": [
    {
     "name": "stdout",
     "output_type": "stream",
     "text": [
      "Accuracy: 0.8585858585858586\n",
      "[[19  8]\n",
      " [ 6 66]]\n",
      "              precision    recall  f1-score   support\n",
      "\n",
      "           0       0.76      0.70      0.73        27\n",
      "           1       0.89      0.92      0.90        72\n",
      "\n",
      "    accuracy                           0.86        99\n",
      "   macro avg       0.83      0.81      0.82        99\n",
      "weighted avg       0.86      0.86      0.86        99\n",
      "\n"
     ]
    }
   ],
   "source": [
    "# NA\n",
    "# Preprocess data\n",
    "tokenizer = Tokenizer(num_words=10000, oov_token='<OOV>')\n",
    "tokenizer.fit_on_texts(dna['Ulasan'].astype(str))\n",
    "X = tokenizer.texts_to_sequences(tna['ulasan'].astype(str))\n",
    "X = pad_sequences(X, maxlen=50, padding='post')\n",
    "\n",
    "# Make predictions\n",
    "predictions = na.predict(X)\n",
    "rounded_predictions = np.round(predictions).astype(int)\n",
    "\n",
    "accuracy = accuracy_score(tna['label'], rounded_predictions)\n",
    "report = classification_report(tna['label'], rounded_predictions)\n",
    "cm = confusion_matrix(tna['label'], rounded_predictions)\n",
    "\n",
    "print('Accuracy:', accuracy)\n",
    "print(cm)\n",
    "print(report)"
   ]
  },
  {
   "cell_type": "code",
   "execution_count": 7,
   "id": "bf2a385e",
   "metadata": {},
   "outputs": [
    {
     "name": "stdout",
     "output_type": "stream",
     "text": [
      "Accuracy: 0.8484848484848485\n",
      "[[17 10]\n",
      " [ 5 67]]\n",
      "              precision    recall  f1-score   support\n",
      "\n",
      "           0       0.77      0.63      0.69        27\n",
      "           1       0.87      0.93      0.90        72\n",
      "\n",
      "    accuracy                           0.85        99\n",
      "   macro avg       0.82      0.78      0.80        99\n",
      "weighted avg       0.84      0.85      0.84        99\n",
      "\n"
     ]
    }
   ],
   "source": [
    "# NS\n",
    "# Preprocess data\n",
    "tokenizer = Tokenizer(num_words=10000, oov_token='<OOV>')\n",
    "tokenizer.fit_on_texts(dns['Ulasan'].astype(str))\n",
    "X = tokenizer.texts_to_sequences(tns['ulasan'].astype(str))\n",
    "X = pad_sequences(X, maxlen=50, padding='post')\n",
    "\n",
    "# Make predictions\n",
    "predictions = ns.predict(X)\n",
    "rounded_predictions = np.round(predictions).astype(int)\n",
    "\n",
    "accuracy = accuracy_score(tns['label'], rounded_predictions)\n",
    "report = classification_report(tns['label'], rounded_predictions)\n",
    "cm = confusion_matrix(tns['label'], rounded_predictions)\n",
    "\n",
    "print('Accuracy:', accuracy)\n",
    "print(cm)\n",
    "print(report)"
   ]
  },
  {
   "cell_type": "code",
   "execution_count": 8,
   "id": "81f77a56",
   "metadata": {},
   "outputs": [
    {
     "name": "stdout",
     "output_type": "stream",
     "text": [
      "Accuracy: 0.8585858585858586\n",
      "[[20  7]\n",
      " [ 7 65]]\n",
      "              precision    recall  f1-score   support\n",
      "\n",
      "           0       0.74      0.74      0.74        27\n",
      "           1       0.90      0.90      0.90        72\n",
      "\n",
      "    accuracy                           0.86        99\n",
      "   macro avg       0.82      0.82      0.82        99\n",
      "weighted avg       0.86      0.86      0.86        99\n",
      "\n"
     ]
    }
   ],
   "source": [
    "# SA\n",
    "# Preprocess data\n",
    "tokenizer = Tokenizer(num_words=10000, oov_token='<OOV>')\n",
    "tokenizer.fit_on_texts(dsa['Ulasan'].astype(str))\n",
    "X = tokenizer.texts_to_sequences(tsa['ulasan'].astype(str))\n",
    "X = pad_sequences(X, maxlen=50, padding='post')\n",
    "\n",
    "# Make predictions\n",
    "predictions = sa.predict(X)\n",
    "rounded_predictions = np.round(predictions).astype(int)\n",
    "\n",
    "accuracy = accuracy_score(tsa['label'], rounded_predictions)\n",
    "report = classification_report(tsa['label'], rounded_predictions)\n",
    "cm = confusion_matrix(tsa['label'], rounded_predictions)\n",
    "\n",
    "print('Accuracy:', accuracy)\n",
    "print(cm)\n",
    "print(report)"
   ]
  },
  {
   "cell_type": "code",
   "execution_count": 9,
   "id": "e5d53fed",
   "metadata": {},
   "outputs": [
    {
     "name": "stdout",
     "output_type": "stream",
     "text": [
      "Accuracy: 1.0\n",
      "[[2 0]\n",
      " [0 2]]\n",
      "              precision    recall  f1-score   support\n",
      "\n",
      "           0       1.00      1.00      1.00         2\n",
      "           1       1.00      1.00      1.00         2\n",
      "\n",
      "    accuracy                           1.00         4\n",
      "   macro avg       1.00      1.00      1.00         4\n",
      "weighted avg       1.00      1.00      1.00         4\n",
      "\n"
     ]
    }
   ],
   "source": [
    "# SA\n",
    "# Preprocess data\n",
    "ts = [\"Tempat nya bersih\", \"panas tidak tenda\", \"wisat tutup hujan becek\", \"bumdes ramah\"]\n",
    "t=[1,0,0,1]\n",
    "tokenizer = Tokenizer(num_words=10000, oov_token='<OOV>')\n",
    "tokenizer.fit_on_texts(dsa['Ulasan'].astype(str))\n",
    "X = tokenizer.texts_to_sequences(ts)\n",
    "X = pad_sequences(X, maxlen=50, padding='post')\n",
    "\n",
    "# Make predictions\n",
    "predictions = sa.predict(X)\n",
    "rounded_predictions = np.round(predictions).astype(int)\n",
    "\n",
    "accuracy = accuracy_score(t, rounded_predictions)\n",
    "report = classification_report(t, rounded_predictions)\n",
    "cm = confusion_matrix(t, rounded_predictions)\n",
    "\n",
    "print('Accuracy:', accuracy)\n",
    "print(cm)\n",
    "print(report)"
   ]
  },
  {
   "cell_type": "code",
   "execution_count": 10,
   "id": "0d644a00",
   "metadata": {},
   "outputs": [
    {
     "name": "stdout",
     "output_type": "stream",
     "text": [
      "Accuracy: 0.9191919191919192\n",
      "[[24  3]\n",
      " [ 5 67]]\n",
      "              precision    recall  f1-score   support\n",
      "\n",
      "           0       0.83      0.89      0.86        27\n",
      "           1       0.96      0.93      0.94        72\n",
      "\n",
      "    accuracy                           0.92        99\n",
      "   macro avg       0.89      0.91      0.90        99\n",
      "weighted avg       0.92      0.92      0.92        99\n",
      "\n"
     ]
    }
   ],
   "source": [
    "# SS\n",
    "# Preprocess data\n",
    "tokenizer = Tokenizer(num_words=10000, oov_token='<OOV>')\n",
    "tokenizer.fit_on_texts(dss['Ulasan'].astype(str))\n",
    "X = tokenizer.texts_to_sequences(tss['ulasan'].astype(str))\n",
    "X = pad_sequences(X, maxlen=50, padding='post')\n",
    "\n",
    "# Make predictions\n",
    "predictions = ss.predict(X)\n",
    "rounded_predictions = np.round(predictions).astype(int)\n",
    "\n",
    "accuracy = accuracy_score(tss['label'], rounded_predictions)\n",
    "report = classification_report(tss['label'], rounded_predictions)\n",
    "cm = confusion_matrix(tss['label'], rounded_predictions)\n",
    "\n",
    "print('Accuracy:', accuracy)\n",
    "print(cm)\n",
    "print(report)"
   ]
  }
 ],
 "metadata": {
  "kernelspec": {
   "display_name": "Python 3",
   "language": "python",
   "name": "python3"
  },
  "language_info": {
   "codemirror_mode": {
    "name": "ipython",
    "version": 3
   },
   "file_extension": ".py",
   "mimetype": "text/x-python",
   "name": "python",
   "nbconvert_exporter": "python",
   "pygments_lexer": "ipython3",
   "version": "3.8.8"
  }
 },
 "nbformat": 4,
 "nbformat_minor": 5
}
