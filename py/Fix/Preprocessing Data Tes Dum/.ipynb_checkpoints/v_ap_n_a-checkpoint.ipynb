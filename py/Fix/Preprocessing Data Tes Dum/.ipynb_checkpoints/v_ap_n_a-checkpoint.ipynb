{
 "cells": [
  {
   "cell_type": "code",
   "execution_count": 29,
   "id": "68123eda",
   "metadata": {},
   "outputs": [
    {
     "name": "stdout",
     "output_type": "stream",
     "text": [
      "Requirement already satisfied: sastrawi in d:\\anaconda\\lib\\site-packages (1.0.1)\n",
      "Note: you may need to restart the kernel to use updated packages.\n"
     ]
    }
   ],
   "source": [
    "pip install sastrawi"
   ]
  },
  {
   "cell_type": "code",
   "execution_count": 30,
   "id": "ebec2cbe",
   "metadata": {},
   "outputs": [],
   "source": [
    "import pandas as pd \n",
    "import string \n",
    "import nltk \n",
    "from nltk.tokenize import word_tokenize\n",
    "from nltk.corpus import stopwords\n",
    "from Sastrawi.Stemmer.StemmerFactory import StemmerFactory\n",
    "import re"
   ]
  },
  {
   "cell_type": "code",
   "execution_count": 31,
   "id": "9f7b5ade",
   "metadata": {},
   "outputs": [],
   "source": [
    "dataset_sg = pd.read_csv('try.csv')"
   ]
  },
  {
   "cell_type": "code",
   "execution_count": 32,
   "id": "de9522b9",
   "metadata": {},
   "outputs": [],
   "source": [
    "#Case Folding\n",
    "data_baru = dataset_sg['ulasan'].str.lower()\n",
    "dataset_sg['ulasan'] = data_baru"
   ]
  },
  {
   "cell_type": "code",
   "execution_count": 33,
   "id": "82caa867",
   "metadata": {},
   "outputs": [],
   "source": [
    "#Menghapus tag <br>\n",
    "dataset_sg['ulasan'] = dataset_sg['ulasan'].replace(\"<br>\", \" \")"
   ]
  },
  {
   "cell_type": "code",
   "execution_count": 34,
   "id": "2e6a9fc9",
   "metadata": {},
   "outputs": [],
   "source": [
    "#Hapus angka dan simbol\n",
    "def hapus_angka_simbol(data):\n",
    "    data_bersih = re.sub('[^a-zA-Z]', ' ', data)\n",
    "    return data_bersih\n",
    "\n",
    "dataset_sg['ulasan'] = dataset_sg['ulasan'].apply(hapus_angka_simbol)"
   ]
  },
  {
   "cell_type": "code",
   "execution_count": 35,
   "id": "f1eba2b7",
   "metadata": {},
   "outputs": [],
   "source": [
    "#baca slangword\n",
    "slang_dict = pd.read_excel('sw.xlsm')\n",
    "\n",
    "# Buat dictionary untuk mapping slangword dan standar\n",
    "slang_map = dict(zip(slang_dict['slang'], slang_dict['formal']))"
   ]
  },
  {
   "cell_type": "code",
   "execution_count": 36,
   "id": "62a8a5cc",
   "metadata": {},
   "outputs": [],
   "source": [
    "# Membuat fungsi untuk mencari dan mengganti slangword\n",
    "def hapus_slangword(text):\n",
    "    for key in slang_map:\n",
    "        text = re.sub(rf\"\\b{key}\\b\", slang_map[key], text)\n",
    "    return text\n",
    "\n",
    "# Mengganti slangword di kolom tertentu\n",
    "dataset_sg['ulasan'] = dataset_sg['ulasan'].apply(hapus_slangword)"
   ]
  },
  {
   "cell_type": "code",
   "execution_count": 37,
   "id": "4f785706",
   "metadata": {},
   "outputs": [],
   "source": [
    "#Tokenizing with unigram\n",
    "def token_unigram(data):\n",
    "    datas = word_tokenize(data)\n",
    "    return [token for token in datas if len(token) > 1]\n",
    "\n",
    "dataset_sg['ulasan'] = dataset_sg['ulasan'].apply(token_unigram)"
   ]
  },
  {
   "cell_type": "code",
   "execution_count": 38,
   "id": "ff976950",
   "metadata": {},
   "outputs": [
    {
     "name": "stderr",
     "output_type": "stream",
     "text": [
      "[nltk_data] Downloading package stopwords to\n",
      "[nltk_data]     C:\\Users\\Rivaldo\\AppData\\Roaming\\nltk_data...\n",
      "[nltk_data]   Package stopwords is already up-to-date!\n"
     ]
    }
   ],
   "source": [
    "#Remove Indonesian Stopword\n",
    "nltk.download('stopwords')\n",
    "indonesia_stop = set(stopwords.words('indonesian'))\n",
    "indonesia_stop.discard('tidak')"
   ]
  },
  {
   "cell_type": "code",
   "execution_count": 39,
   "id": "975d0ea1",
   "metadata": {},
   "outputs": [],
   "source": [
    "def hilang_stopword(data):\n",
    "    delete_stop = [token for token in data if token not in indonesia_stop]\n",
    "    return_data = ' '.join(delete_stop)\n",
    "    return return_data\n",
    "dataset_sg['ulasan'] = dataset_sg['ulasan'].apply(hilang_stopword)"
   ]
  },
  {
   "cell_type": "code",
   "execution_count": 40,
   "id": "ef2ba9ca",
   "metadata": {},
   "outputs": [],
   "source": [
    "#Stemming with Sastrawi\n",
    "f = StemmerFactory()\n",
    "stem = f.create_stemmer()\n",
    "\n",
    "def stemming(data):\n",
    "    data = stem.stem(data)\n",
    "    return data\n",
    "\n",
    "dataset_sg['ulasan'] = dataset_sg['ulasan'].apply(stemming)"
   ]
  },
  {
   "cell_type": "code",
   "execution_count": 41,
   "id": "c3baf819",
   "metadata": {},
   "outputs": [
    {
     "data": {
      "text/plain": [
       "0     wisata trawas sumber air pandang sawah gunung ...\n",
       "1                   renovasi wisata mandi renang nyaman\n",
       "2                         seru titip baju tenang renang\n",
       "3           asyik suasana desa putar gunung udara sejuk\n",
       "4                           sejuk indah asli sejuk asri\n",
       "5     bagus banget enak rekreasi keluarga kolam rena...\n",
       "6     wisata sawah tenang bersih tata enak bawa kelu...\n",
       "7                                     wisata murah riah\n",
       "8     nyaman kunjung indah bagus tenang rest nyaman ...\n",
       "9     wisata alam asri pandang sawah kolam renang ai...\n",
       "10                                       suasana mantab\n",
       "11                          wisata gunung lumayan bagus\n",
       "12                                    tiket murah orang\n",
       "13                                         wisata tutup\n",
       "14           bagus murah sayang akses jalan sempit batu\n",
       "15    wisata bagus suasana sawah mandi air sumber as...\n",
       "16                                             maksimal\n",
       "17    jos murah riah enak bawa motor akses jalan mas...\n",
       "Name: ulasan, dtype: object"
      ]
     },
     "execution_count": 41,
     "metadata": {},
     "output_type": "execute_result"
    }
   ],
   "source": [
    "dataset_sg['ulasan']"
   ]
  },
  {
   "cell_type": "code",
   "execution_count": 42,
   "id": "e13631a8",
   "metadata": {},
   "outputs": [],
   "source": [
    "dataset_sg.to_csv('try_ap_n_a.csv', index=False)"
   ]
  }
 ],
 "metadata": {
  "kernelspec": {
   "display_name": "Python 3",
   "language": "python",
   "name": "python3"
  },
  "language_info": {
   "codemirror_mode": {
    "name": "ipython",
    "version": 3
   },
   "file_extension": ".py",
   "mimetype": "text/x-python",
   "name": "python",
   "nbconvert_exporter": "python",
   "pygments_lexer": "ipython3",
   "version": "3.8.8"
  }
 },
 "nbformat": 4,
 "nbformat_minor": 5
}
