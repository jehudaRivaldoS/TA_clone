{
 "cells": [
  {
   "cell_type": "code",
   "execution_count": 1,
   "id": "68123eda",
   "metadata": {},
   "outputs": [
    {
     "name": "stdout",
     "output_type": "stream",
     "text": [
      "Requirement already satisfied: sastrawi in d:\\anaconda\\lib\\site-packages (1.0.1)\n",
      "Note: you may need to restart the kernel to use updated packages.\n"
     ]
    },
    {
     "name": "stderr",
     "output_type": "stream",
     "text": [
      "\n",
      "[notice] A new release of pip is available: 23.1 -> 23.1.2\n",
      "[notice] To update, run: python.exe -m pip install --upgrade pip\n"
     ]
    }
   ],
   "source": [
    "pip install sastrawi"
   ]
  },
  {
   "cell_type": "code",
   "execution_count": 2,
   "id": "ebec2cbe",
   "metadata": {},
   "outputs": [],
   "source": [
    "import pandas as pd \n",
    "import string \n",
    "import nltk \n",
    "from nltk.tokenize import word_tokenize\n",
    "from nltk.corpus import stopwords\n",
    "from Sastrawi.Stemmer.StemmerFactory import StemmerFactory\n",
    "from Sastrawi.StopWordRemover.StopWordRemoverFactory import StopWordRemoverFactory,StopWordRemover\n",
    "\n",
    "import re"
   ]
  },
  {
   "cell_type": "code",
   "execution_count": 16,
   "id": "9f7b5ade",
   "metadata": {},
   "outputs": [],
   "source": [
    "dataset_sg = pd.read_csv('dum.csv')"
   ]
  },
  {
   "cell_type": "code",
   "execution_count": 17,
   "id": "45aea788",
   "metadata": {},
   "outputs": [
    {
     "data": {
      "text/html": [
       "<div>\n",
       "<style scoped>\n",
       "    .dataframe tbody tr th:only-of-type {\n",
       "        vertical-align: middle;\n",
       "    }\n",
       "\n",
       "    .dataframe tbody tr th {\n",
       "        vertical-align: top;\n",
       "    }\n",
       "\n",
       "    .dataframe thead th {\n",
       "        text-align: right;\n",
       "    }\n",
       "</style>\n",
       "<table border=\"1\" class=\"dataframe\">\n",
       "  <thead>\n",
       "    <tr style=\"text-align: right;\">\n",
       "      <th></th>\n",
       "      <th>ulasan</th>\n",
       "      <th>label</th>\n",
       "      <th>pelayanan</th>\n",
       "      <th>fasilitas</th>\n",
       "      <th>wahana</th>\n",
       "      <th>kuliner</th>\n",
       "    </tr>\n",
       "  </thead>\n",
       "  <tbody>\n",
       "    <tr>\n",
       "      <th>0</th>\n",
       "      <td>jalannya hancur&lt;br&gt; tidak bisa dilewati, tukan...</td>\n",
       "      <td>0</td>\n",
       "      <td>1</td>\n",
       "      <td>1</td>\n",
       "      <td>0</td>\n",
       "      <td>0</td>\n",
       "    </tr>\n",
       "    <tr>\n",
       "      <th>1</th>\n",
       "      <td>wahananya bagus keretanya juga menyenangkan</td>\n",
       "      <td>1</td>\n",
       "      <td>0</td>\n",
       "      <td>0</td>\n",
       "      <td>1</td>\n",
       "      <td>0</td>\n",
       "    </tr>\n",
       "    <tr>\n",
       "      <th>2</th>\n",
       "      <td>makanan dan minumannya mahal dan tidak enak, d...</td>\n",
       "      <td>0</td>\n",
       "      <td>0</td>\n",
       "      <td>1</td>\n",
       "      <td>0</td>\n",
       "      <td>1</td>\n",
       "    </tr>\n",
       "    <tr>\n",
       "      <th>3</th>\n",
       "      <td>adminnya tidak ramah, tukang parkirnya juga ti...</td>\n",
       "      <td>0</td>\n",
       "      <td>1</td>\n",
       "      <td>0</td>\n",
       "      <td>0</td>\n",
       "      <td>0</td>\n",
       "    </tr>\n",
       "    <tr>\n",
       "      <th>4</th>\n",
       "      <td>bagus juga untuk dibuat liburan untuk keluarga</td>\n",
       "      <td>1</td>\n",
       "      <td>0</td>\n",
       "      <td>0</td>\n",
       "      <td>0</td>\n",
       "      <td>0</td>\n",
       "    </tr>\n",
       "    <tr>\n",
       "      <th>5</th>\n",
       "      <td>kolam sangat kotor, dan cafenya kurang banyak ...</td>\n",
       "      <td>0</td>\n",
       "      <td>0</td>\n",
       "      <td>0</td>\n",
       "      <td>1</td>\n",
       "      <td>1</td>\n",
       "    </tr>\n",
       "    <tr>\n",
       "      <th>6</th>\n",
       "      <td>atvnya rusak, toiletnya bau dan kotor</td>\n",
       "      <td>0</td>\n",
       "      <td>0</td>\n",
       "      <td>1</td>\n",
       "      <td>1</td>\n",
       "      <td>0</td>\n",
       "    </tr>\n",
       "    <tr>\n",
       "      <th>7</th>\n",
       "      <td>makanannya enak dan tempatnya menyenangkan unt...</td>\n",
       "      <td>1</td>\n",
       "      <td>0</td>\n",
       "      <td>0</td>\n",
       "      <td>0</td>\n",
       "      <td>1</td>\n",
       "    </tr>\n",
       "    <tr>\n",
       "      <th>8</th>\n",
       "      <td>kurang tempat berteduh dan cuacanya panas sekali</td>\n",
       "      <td>0</td>\n",
       "      <td>0</td>\n",
       "      <td>1</td>\n",
       "      <td>0</td>\n",
       "      <td>0</td>\n",
       "    </tr>\n",
       "    <tr>\n",
       "      <th>9</th>\n",
       "      <td>toiletnya bersih dan kolamnya juga bagus</td>\n",
       "      <td>1</td>\n",
       "      <td>0</td>\n",
       "      <td>1</td>\n",
       "      <td>1</td>\n",
       "      <td>0</td>\n",
       "    </tr>\n",
       "  </tbody>\n",
       "</table>\n",
       "</div>"
      ],
      "text/plain": [
       "                                              ulasan  label  pelayanan  \\\n",
       "0  jalannya hancur<br> tidak bisa dilewati, tukan...      0          1   \n",
       "1        wahananya bagus keretanya juga menyenangkan      1          0   \n",
       "2  makanan dan minumannya mahal dan tidak enak, d...      0          0   \n",
       "3  adminnya tidak ramah, tukang parkirnya juga ti...      0          1   \n",
       "4     bagus juga untuk dibuat liburan untuk keluarga      1          0   \n",
       "5  kolam sangat kotor, dan cafenya kurang banyak ...      0          0   \n",
       "6              atvnya rusak, toiletnya bau dan kotor      0          0   \n",
       "7  makanannya enak dan tempatnya menyenangkan unt...      1          0   \n",
       "8   kurang tempat berteduh dan cuacanya panas sekali      0          0   \n",
       "9           toiletnya bersih dan kolamnya juga bagus      1          0   \n",
       "\n",
       "   fasilitas  wahana   kuliner  \n",
       "0          1        0        0  \n",
       "1          0        1        0  \n",
       "2          1        0        1  \n",
       "3          0        0        0  \n",
       "4          0        0        0  \n",
       "5          0        1        1  \n",
       "6          1        1        0  \n",
       "7          0        0        1  \n",
       "8          1        0        0  \n",
       "9          1        1        0  "
      ]
     },
     "execution_count": 17,
     "metadata": {},
     "output_type": "execute_result"
    }
   ],
   "source": [
    "dataset_sg"
   ]
  },
  {
   "cell_type": "code",
   "execution_count": 18,
   "id": "de9522b9",
   "metadata": {},
   "outputs": [],
   "source": [
    "#Case Folding\n",
    "data_baru = dataset_sg['ulasan'].str.lower()\n",
    "dataset_sg['ulasan'] = data_baru"
   ]
  },
  {
   "cell_type": "code",
   "execution_count": 19,
   "id": "82caa867",
   "metadata": {},
   "outputs": [],
   "source": [
    "#Menghapus tag <br>\n",
    "dataset_sg['ulasan'] = dataset_sg['ulasan'].replace(\"<br>\", \" \")"
   ]
  },
  {
   "cell_type": "code",
   "execution_count": 20,
   "id": "2e6a9fc9",
   "metadata": {},
   "outputs": [],
   "source": [
    "#Hapus angka dan simbol\n",
    "def hapus_angka_simbol(data):\n",
    "    data_bersih = re.sub('[^a-zA-Z]', ' ', data)\n",
    "    return data_bersih\n",
    "\n",
    "dataset_sg['ulasan'] = dataset_sg['ulasan'].apply(hapus_angka_simbol)"
   ]
  },
  {
   "cell_type": "code",
   "execution_count": 21,
   "id": "f1eba2b7",
   "metadata": {},
   "outputs": [],
   "source": [
    "#baca slangword\n",
    "slang_dict = pd.read_excel('sw.xlsm')\n",
    "\n",
    "# Buat dictionary untuk mapping slangword dan standar\n",
    "slang_map = dict(zip(slang_dict['slang'], slang_dict['formal']))"
   ]
  },
  {
   "cell_type": "code",
   "execution_count": 22,
   "id": "62a8a5cc",
   "metadata": {},
   "outputs": [],
   "source": [
    "# Membuat fungsi untuk mencari dan mengganti slangword\n",
    "def hapus_slangword(text):\n",
    "    for key in slang_map:\n",
    "        text = re.sub(rf\"\\b{key}\\b\", slang_map[key], text)\n",
    "    return text\n",
    "\n",
    "# Mengganti slangword di kolom tertentu\n",
    "dataset_sg['ulasan'] = dataset_sg['ulasan'].apply(hapus_slangword)"
   ]
  },
  {
   "cell_type": "code",
   "execution_count": 23,
   "id": "4f785706",
   "metadata": {},
   "outputs": [],
   "source": [
    "#Tokenizing with unigram\n",
    "def token_unigram(data):\n",
    "    datas = word_tokenize(data)\n",
    "    return [token for token in datas if len(token) > 1]\n",
    "\n",
    "dataset_sg['ulasan'] = dataset_sg['ulasan'].apply(token_unigram)"
   ]
  },
  {
   "cell_type": "code",
   "execution_count": 24,
   "id": "ff976950",
   "metadata": {},
   "outputs": [],
   "source": [
    "#Remove Indonesian Stopword\n",
    "factory = StopWordRemoverFactory() \n",
    "stop = set(factory.get_stop_words())\n",
    "stop.discard('tidak')"
   ]
  },
  {
   "cell_type": "code",
   "execution_count": 25,
   "id": "ad843898",
   "metadata": {},
   "outputs": [],
   "source": [
    "def hapus_stop(text): \n",
    "    txt = [token for token in text if token not in stop]\n",
    "    txt_b = ' '.join(txt)\n",
    "    return txt_b\n",
    "\n",
    "dataset_sg['ulasan'] = dataset_sg['ulasan'].apply(hapus_stop)"
   ]
  },
  {
   "cell_type": "code",
   "execution_count": 26,
   "id": "ef2ba9ca",
   "metadata": {},
   "outputs": [],
   "source": [
    "#Stemming with Sastrawi\n",
    "f = StemmerFactory()\n",
    "stem = f.create_stemmer()\n",
    "\n",
    "def stemming(data):\n",
    "    data = stem.stem(data)\n",
    "    return data\n",
    "\n",
    "dataset_sg['ulasan'] = dataset_sg['ulasan'].apply(stemming)"
   ]
  },
  {
   "cell_type": "code",
   "execution_count": 27,
   "id": "c3baf819",
   "metadata": {},
   "outputs": [
    {
     "data": {
      "text/plain": [
       "0    jalan hancur baru tidak lewat tukang parkir ti...\n",
       "1                           wahana bagus kereta senang\n",
       "2    makan minum mahal tidak enak jalan hancur tida...\n",
       "3       adminnya tidak ramah tukang parkir tidak sopan\n",
       "4                            bagus buat libur keluarga\n",
       "5    kolam sangat kotor cafenya kurang banyak pilih...\n",
       "6                        atvnya rusak toilet bau kotor\n",
       "7                     makan enak tempat senang kunjung\n",
       "8               kurang tempat teduh cuaca panas sekali\n",
       "9                            toilet bersih kolam bagus\n",
       "Name: ulasan, dtype: object"
      ]
     },
     "execution_count": 27,
     "metadata": {},
     "output_type": "execute_result"
    }
   ],
   "source": [
    "dataset_sg['ulasan']"
   ]
  },
  {
   "cell_type": "code",
   "execution_count": 28,
   "id": "e13631a8",
   "metadata": {},
   "outputs": [],
   "source": [
    "dataset_sg.to_csv('dum_ap.csv', index=False)"
   ]
  }
 ],
 "metadata": {
  "kernelspec": {
   "display_name": "Python 3",
   "language": "python",
   "name": "python3"
  },
  "language_info": {
   "codemirror_mode": {
    "name": "ipython",
    "version": 3
   },
   "file_extension": ".py",
   "mimetype": "text/x-python",
   "name": "python",
   "nbconvert_exporter": "python",
   "pygments_lexer": "ipython3",
   "version": "3.8.8"
  }
 },
 "nbformat": 4,
 "nbformat_minor": 5
}
