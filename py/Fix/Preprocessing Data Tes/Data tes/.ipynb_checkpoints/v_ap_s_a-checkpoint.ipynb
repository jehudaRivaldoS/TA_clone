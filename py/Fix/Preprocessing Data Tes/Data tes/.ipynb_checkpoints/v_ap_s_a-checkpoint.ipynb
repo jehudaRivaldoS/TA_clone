{
 "cells": [
  {
   "cell_type": "code",
   "execution_count": 1,
   "id": "68123eda",
   "metadata": {},
   "outputs": [
    {
     "name": "stdout",
     "output_type": "stream",
     "text": [
      "Requirement already satisfied: sastrawi in d:\\anaconda\\lib\\site-packages (1.0.1)\n",
      "Note: you may need to restart the kernel to use updated packages.\n"
     ]
    },
    {
     "name": "stderr",
     "output_type": "stream",
     "text": [
      "\n",
      "[notice] A new release of pip is available: 23.1 -> 23.1.2\n",
      "[notice] To update, run: python.exe -m pip install --upgrade pip\n"
     ]
    }
   ],
   "source": [
    "pip install sastrawi"
   ]
  },
  {
   "cell_type": "code",
   "execution_count": 2,
   "id": "ebec2cbe",
   "metadata": {},
   "outputs": [],
   "source": [
    "import pandas as pd \n",
    "import string \n",
    "import nltk \n",
    "from nltk.tokenize import word_tokenize\n",
    "from nltk.corpus import stopwords\n",
    "from Sastrawi.Stemmer.StemmerFactory import StemmerFactory\n",
    "from Sastrawi.StopWordRemover.StopWordRemoverFactory import StopWordRemoverFactory,StopWordRemover\n",
    "\n",
    "import re"
   ]
  },
  {
   "cell_type": "code",
   "execution_count": 3,
   "id": "9f7b5ade",
   "metadata": {},
   "outputs": [],
   "source": [
    "dataset_sg = pd.read_csv('validasi.csv')"
   ]
  },
  {
   "cell_type": "code",
   "execution_count": 4,
   "id": "de9522b9",
   "metadata": {},
   "outputs": [],
   "source": [
    "#Case Folding\n",
    "data_baru = dataset_sg['ulasan'].str.lower()\n",
    "dataset_sg['ulasan'] = data_baru"
   ]
  },
  {
   "cell_type": "code",
   "execution_count": 5,
   "id": "82caa867",
   "metadata": {},
   "outputs": [],
   "source": [
    "#Menghapus tag <br>\n",
    "dataset_sg['ulasan'] = dataset_sg['ulasan'].replace(\"<br>\", \" \")"
   ]
  },
  {
   "cell_type": "code",
   "execution_count": 6,
   "id": "2e6a9fc9",
   "metadata": {},
   "outputs": [],
   "source": [
    "#Hapus angka dan simbol\n",
    "def hapus_angka_simbol(data):\n",
    "    data_bersih = re.sub('[^a-zA-Z]', ' ', data)\n",
    "    return data_bersih\n",
    "\n",
    "dataset_sg['ulasan'] = dataset_sg['ulasan'].apply(hapus_angka_simbol)"
   ]
  },
  {
   "cell_type": "code",
   "execution_count": 7,
   "id": "f1eba2b7",
   "metadata": {},
   "outputs": [],
   "source": [
    "#baca slangword\n",
    "slang_dict = pd.read_excel('sw.xlsm')\n",
    "\n",
    "# Buat dictionary untuk mapping slangword dan standar\n",
    "slang_map = dict(zip(slang_dict['slang'], slang_dict['formal']))"
   ]
  },
  {
   "cell_type": "code",
   "execution_count": 8,
   "id": "62a8a5cc",
   "metadata": {},
   "outputs": [],
   "source": [
    "# Membuat fungsi untuk mencari dan mengganti slangword\n",
    "def hapus_slangword(text):\n",
    "    for key in slang_map:\n",
    "        text = re.sub(rf\"\\b{key}\\b\", slang_map[key], text)\n",
    "    return text\n",
    "\n",
    "# Mengganti slangword di kolom tertentu\n",
    "dataset_sg['ulasan'] = dataset_sg['ulasan'].apply(hapus_slangword)"
   ]
  },
  {
   "cell_type": "code",
   "execution_count": 9,
   "id": "4f785706",
   "metadata": {},
   "outputs": [],
   "source": [
    "#Tokenizing with unigram\n",
    "def token_unigram(data):\n",
    "    datas = word_tokenize(data)\n",
    "    return [token for token in datas if len(token) > 1]\n",
    "\n",
    "dataset_sg['ulasan'] = dataset_sg['ulasan'].apply(token_unigram)"
   ]
  },
  {
   "cell_type": "code",
   "execution_count": 10,
   "id": "ff976950",
   "metadata": {},
   "outputs": [],
   "source": [
    "#Remove Indonesian Stopword\n",
    "factory = StopWordRemoverFactory() \n",
    "stop = set(factory.get_stop_words())"
   ]
  },
  {
   "cell_type": "code",
   "execution_count": 11,
   "id": "ad843898",
   "metadata": {},
   "outputs": [],
   "source": [
    "def hapus_stop(text): \n",
    "    txt = [token for token in text if token not in stop]\n",
    "    txt_b = ' '.join(txt)\n",
    "    return txt_b\n",
    "\n",
    "dataset_sg['ulasan'] = dataset_sg['ulasan'].apply(hapus_stop)"
   ]
  },
  {
   "cell_type": "code",
   "execution_count": 12,
   "id": "ef2ba9ca",
   "metadata": {},
   "outputs": [],
   "source": [
    "#Stemming with Sastrawi\n",
    "f = StemmerFactory()\n",
    "stem = f.create_stemmer()\n",
    "\n",
    "def stemming(data):\n",
    "    data = stem.stem(data)\n",
    "    return data\n",
    "\n",
    "dataset_sg['ulasan'] = dataset_sg['ulasan'].apply(stemming)"
   ]
  },
  {
   "cell_type": "code",
   "execution_count": 13,
   "id": "c3baf819",
   "metadata": {},
   "outputs": [
    {
     "data": {
      "text/plain": [
       "0              kembang fasiltas toilet baik akses jalan\n",
       "1     wisata spenuhnya tiket masuk jaga jaga langsun...\n",
       "2                        pandang indah suasana nyamaann\n",
       "3           wisata edukasi sederhana tenang jiwa merana\n",
       "4     wisata trawas sumber air pandang sawah gunung ...\n",
       "                            ...                        \n",
       "94    wisata senang harga murah luas indah renang ko...\n",
       "95    tahap kembang moga selesai rekomendasi kesini ...\n",
       "96                                   bagus harga segitu\n",
       "97                     teduh kurang wisatawan nya panas\n",
       "98                             jalan wisata mohon benah\n",
       "Name: ulasan, Length: 99, dtype: object"
      ]
     },
     "execution_count": 13,
     "metadata": {},
     "output_type": "execute_result"
    }
   ],
   "source": [
    "dataset_sg['ulasan']"
   ]
  },
  {
   "cell_type": "code",
   "execution_count": 14,
   "id": "e13631a8",
   "metadata": {},
   "outputs": [],
   "source": [
    "dataset_sg.to_csv('v_sa_nt.csv', index=False)"
   ]
  }
 ],
 "metadata": {
  "kernelspec": {
   "display_name": "Python 3",
   "language": "python",
   "name": "python3"
  },
  "language_info": {
   "codemirror_mode": {
    "name": "ipython",
    "version": 3
   },
   "file_extension": ".py",
   "mimetype": "text/x-python",
   "name": "python",
   "nbconvert_exporter": "python",
   "pygments_lexer": "ipython3",
   "version": "3.8.8"
  }
 },
 "nbformat": 4,
 "nbformat_minor": 5
}
