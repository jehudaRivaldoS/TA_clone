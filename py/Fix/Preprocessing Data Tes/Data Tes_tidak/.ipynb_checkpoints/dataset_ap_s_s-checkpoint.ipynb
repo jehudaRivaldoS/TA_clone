{
 "cells": [
  {
   "cell_type": "code",
   "execution_count": 1,
   "id": "68123eda",
   "metadata": {},
   "outputs": [
    {
     "name": "stdout",
     "output_type": "stream",
     "text": [
      "Requirement already satisfied: sastrawi in d:\\anaconda\\lib\\site-packages (1.0.1)\n",
      "Note: you may need to restart the kernel to use updated packages.\n"
     ]
    }
   ],
   "source": [
    "pip install sastrawi"
   ]
  },
  {
   "cell_type": "code",
   "execution_count": 2,
   "id": "ebec2cbe",
   "metadata": {},
   "outputs": [],
   "source": [
    "import pandas as pd \n",
    "import string \n",
    "import nltk \n",
    "from nltk.tokenize import word_tokenize\n",
    "from nltk.corpus import stopwords\n",
    "import re\n",
    "from Sastrawi.StopWordRemover.StopWordRemoverFactory import StopWordRemoverFactory,StopWordRemover\n",
    "from snowballstemmer import stemmer"
   ]
  },
  {
   "cell_type": "code",
   "execution_count": 3,
   "id": "9f7b5ade",
   "metadata": {},
   "outputs": [],
   "source": [
    "dataset_sg = pd.read_csv('data_v.csv')"
   ]
  },
  {
   "cell_type": "code",
   "execution_count": 4,
   "id": "de9522b9",
   "metadata": {},
   "outputs": [],
   "source": [
    "#Case Folding\n",
    "data_baru = dataset_sg['ulasan'].str.lower()\n",
    "dataset_sg['ulasan'] = data_baru"
   ]
  },
  {
   "cell_type": "code",
   "execution_count": 5,
   "id": "82caa867",
   "metadata": {},
   "outputs": [],
   "source": [
    "#Menghapus tag <br>\n",
    "dataset_sg['ulasan'] = dataset_sg['ulasan'].replace(\"<br>\", \" \")"
   ]
  },
  {
   "cell_type": "code",
   "execution_count": 6,
   "id": "2e6a9fc9",
   "metadata": {},
   "outputs": [],
   "source": [
    "#Hapus angka dan simbol\n",
    "def hapus_angka_simbol(data):\n",
    "    data_bersih = re.sub('[^a-zA-Z]', ' ', data)\n",
    "    return data_bersih\n",
    "\n",
    "dataset_sg['ulasan'] = dataset_sg['ulasan'].apply(hapus_angka_simbol)"
   ]
  },
  {
   "cell_type": "code",
   "execution_count": 8,
   "id": "f1eba2b7",
   "metadata": {},
   "outputs": [],
   "source": [
    "#baca slangword\n",
    "slang_dict = pd.read_excel('sw.xlsm')\n",
    "\n",
    "# Buat dictionary untuk mapping slangword dan standar\n",
    "slang_map = dict(zip(slang_dict['slang'], slang_dict['formal']))"
   ]
  },
  {
   "cell_type": "code",
   "execution_count": 9,
   "id": "62a8a5cc",
   "metadata": {},
   "outputs": [],
   "source": [
    "# Membuat fungsi untuk mencari dan mengganti slangword\n",
    "def hapus_slangword(text):\n",
    "    for key in slang_map:\n",
    "        text = re.sub(rf\"\\b{key}\\b\", slang_map[key], text)\n",
    "    return text\n",
    "\n",
    "# Mengganti slangword di kolom tertentu\n",
    "dataset_sg['ulasan'] = dataset_sg['ulasan'].apply(hapus_slangword)"
   ]
  },
  {
   "cell_type": "code",
   "execution_count": 10,
   "id": "4f785706",
   "metadata": {},
   "outputs": [],
   "source": [
    "#Tokenizing with unigram\n",
    "def token_unigram(data):\n",
    "    datas = word_tokenize(data)\n",
    "    return [token for token in datas if len(token) > 1]\n",
    "\n",
    "dataset_sg['ulasan'] = dataset_sg['ulasan'].apply(token_unigram)"
   ]
  },
  {
   "cell_type": "code",
   "execution_count": 11,
   "id": "ff976950",
   "metadata": {},
   "outputs": [],
   "source": [
    "#Remove Indonesian Stopword\n",
    "factory = StopWordRemoverFactory() \n",
    "stop = set(factory.get_stop_words())\n",
    "stop.discard('tidak')"
   ]
  },
  {
   "cell_type": "code",
   "execution_count": 12,
   "id": "975d0ea1",
   "metadata": {},
   "outputs": [],
   "source": [
    "def hapus_stop(text): \n",
    "    txt = [token for token in text if token not in stop]\n",
    "    txt_b = ' '.join(txt)\n",
    "    return txt_b\n",
    "\n",
    "dataset_sg['ulasan'] = dataset_sg['ulasan'].apply(hapus_stop)"
   ]
  },
  {
   "cell_type": "code",
   "execution_count": 7,
   "id": "ef2ba9ca",
   "metadata": {},
   "outputs": [],
   "source": [
    "def stemming(text):\n",
    "    indo_stemmer = stemmer('indonesian')\n",
    "    stemmed_text = ' '.join(indo_stemmer.stemWords(text.split()))\n",
    "    return stemmed_text\n",
    "\n",
    "dataset_sg['ulasan'] = dataset_sg['ulasan'].apply(stemming)"
   ]
  },
  {
   "cell_type": "code",
   "execution_count": 13,
   "id": "c3baf819",
   "metadata": {},
   "outputs": [
    {
     "data": {
      "text/plain": [
       "0     tempat wisata baru trawas sumber air pandang s...\n",
       "1     renov jadi tempat wisata baru mandi enang kok ...\n",
       "2     seru enggak itip baju jadi enggak tenang mau r...\n",
       "3           asyik suasana desa putar gunung udara sejuk\n",
       "4     tempat sejuk sangat indah asli tempat sejuk sa...\n",
       "5     bagus banget enak buat rekreasi luarga kolam r...\n",
       "6     wisata sawah enang bersih tata baik enak bawa ...\n",
       "7                                     wisata murah riah\n",
       "8     tempat nyaman kunjung indah bagus tenang rest ...\n",
       "9     wisata alam asri pandang sawah kolam renang ai...\n",
       "10                                       suasana mantab\n",
       "11                            wisata gunung lumay bagus\n",
       "12                           tiket murah cuma per orang\n",
       "13                                  tempat wisata tutup\n",
       "14     cukup bagus murah sayang akses jalan sempit batu\n",
       "15    tempat wisata bagus suasana sawah pandi air su...\n",
       "16                                maksimal mungkin baru\n",
       "17    jos murah meriah paling enak bawa motor akses ...\n",
       "Name: ulasan, dtype: object"
      ]
     },
     "execution_count": 13,
     "metadata": {},
     "output_type": "execute_result"
    }
   ],
   "source": [
    "dataset_sg['ulasan']"
   ]
  },
  {
   "cell_type": "code",
   "execution_count": 14,
   "id": "e13631a8",
   "metadata": {},
   "outputs": [],
   "source": [
    "dataset_sg.to_csv('try_ap_s_s.csv', index=False)"
   ]
  }
 ],
 "metadata": {
  "kernelspec": {
   "display_name": "Python 3",
   "language": "python",
   "name": "python3"
  },
  "language_info": {
   "codemirror_mode": {
    "name": "ipython",
    "version": 3
   },
   "file_extension": ".py",
   "mimetype": "text/x-python",
   "name": "python",
   "nbconvert_exporter": "python",
   "pygments_lexer": "ipython3",
   "version": "3.8.8"
  }
 },
 "nbformat": 4,
 "nbformat_minor": 5
}
