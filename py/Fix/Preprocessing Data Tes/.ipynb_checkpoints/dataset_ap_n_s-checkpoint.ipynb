{
 "cells": [
  {
   "cell_type": "code",
   "execution_count": 1,
   "id": "68123eda",
   "metadata": {},
   "outputs": [
    {
     "name": "stdout",
     "output_type": "stream",
     "text": [
      "Requirement already satisfied: sastrawi in d:\\anaconda\\lib\\site-packages (1.0.1)\n",
      "Note: you may need to restart the kernel to use updated packages.\n"
     ]
    }
   ],
   "source": [
    "pip install sastrawi"
   ]
  },
  {
   "cell_type": "code",
   "execution_count": 2,
   "id": "ebec2cbe",
   "metadata": {},
   "outputs": [],
   "source": [
    "import pandas as pd \n",
    "import string \n",
    "import nltk \n",
    "from nltk.tokenize import word_tokenize\n",
    "from nltk.corpus import stopwords\n",
    "import re\n",
    "from snowballstemmer import stemmer"
   ]
  },
  {
   "cell_type": "code",
   "execution_count": 3,
   "id": "9f7b5ade",
   "metadata": {},
   "outputs": [],
   "source": [
    "dataset_sg = pd.read_csv('try.csv')"
   ]
  },
  {
   "cell_type": "code",
   "execution_count": 5,
   "id": "de9522b9",
   "metadata": {},
   "outputs": [],
   "source": [
    "#Case Folding\n",
    "data_baru = dataset_sg['ulasan'].str.lower()\n",
    "dataset_sg['ulasan'] = data_baru"
   ]
  },
  {
   "cell_type": "code",
   "execution_count": 6,
   "id": "82caa867",
   "metadata": {},
   "outputs": [],
   "source": [
    "#Menghapus tag <br>\n",
    "dataset_sg['ulasan'] = dataset_sg['ulasan'].replace(\"<br>\", \" \")"
   ]
  },
  {
   "cell_type": "code",
   "execution_count": 7,
   "id": "2e6a9fc9",
   "metadata": {},
   "outputs": [],
   "source": [
    "#Hapus angka dan simbol\n",
    "def hapus_angka_simbol(data):\n",
    "    data_bersih = re.sub('[^a-zA-Z]', ' ', data)\n",
    "    return data_bersih\n",
    "\n",
    "dataset_sg['ulasan'] = dataset_sg['ulasan'].apply(hapus_angka_simbol)"
   ]
  },
  {
   "cell_type": "code",
   "execution_count": 8,
   "id": "ef2ba9ca",
   "metadata": {},
   "outputs": [],
   "source": [
    "def stemming(text):\n",
    "    indo_stemmer = stemmer('indonesian')\n",
    "    stemmed_text = ' '.join(indo_stemmer.stemWords(text.split()))\n",
    "    return stemmed_text\n",
    "\n",
    "dataset_sg['ulasan'] = dataset_sg['ulasan'].apply(stemming)"
   ]
  },
  {
   "cell_type": "code",
   "execution_count": 9,
   "id": "f1eba2b7",
   "metadata": {},
   "outputs": [],
   "source": [
    "#baca slangword\n",
    "slang_dict = pd.read_excel('sw.xlsm')\n",
    "\n",
    "# Buat dictionary untuk mapping slangword dan standar\n",
    "slang_map = dict(zip(slang_dict['slang'], slang_dict['formal']))"
   ]
  },
  {
   "cell_type": "code",
   "execution_count": 10,
   "id": "62a8a5cc",
   "metadata": {},
   "outputs": [],
   "source": [
    "# Membuat fungsi untuk mencari dan mengganti slangword\n",
    "def hapus_slangword(text):\n",
    "    for key in slang_map:\n",
    "        text = re.sub(rf\"\\b{key}\\b\", slang_map[key], text)\n",
    "    return text\n",
    "\n",
    "# Mengganti slangword di kolom tertentu\n",
    "dataset_sg['ulasan'] = dataset_sg['ulasan'].apply(hapus_slangword)"
   ]
  },
  {
   "cell_type": "code",
   "execution_count": 11,
   "id": "4f785706",
   "metadata": {},
   "outputs": [],
   "source": [
    "#Tokenizing with unigram\n",
    "def token_unigram(data):\n",
    "    datas = word_tokenize(data)\n",
    "    return [token for token in datas if len(token) > 1]\n",
    "\n",
    "dataset_sg['ulasan'] = dataset_sg['ulasan'].apply(token_unigram)"
   ]
  },
  {
   "cell_type": "code",
   "execution_count": 12,
   "id": "ff976950",
   "metadata": {},
   "outputs": [
    {
     "name": "stdout",
     "output_type": "stream",
     "text": [
      "{'seseorang', 'betulkah', 'balik', 'dimaksudnya', 'tentang', 'dikarenakan', 'sangat', 'terhadapnya', 'saatnya', 'sampaikan', 'pertama-tama', 'melakukan', 'menantikan', 'sesuatunya', 'karena', 'berupa', 'terdahulu', 'menjelaskan', 'semuanya', 'seharusnya', 'soal', 'kapankah', 'melalui', 'semacam', 'mengucapkan', 'disampaikan', 'meski', 'sudahlah', 'berikan', 'dituturkannya', 'diberi', 'tidaklah', 'tutur', 'inginkah', 'sebegini', 'semua', 'kata', 'disebutkannya', 'tegas', 'terdiri', 'teringat', 'mulanya', 'sesudah', 'diketahuinya', 'akhirnya', 'setempat', 'tambah', 'bekerja', 'banyak', 'bersama-sama', 'tampaknya', 'dikerjakan', 'ibarat', 'dong', 'lainnya', 'jikalau', 'dialah', 'tanyanya', 'sekadar', 'sampai', 'paling', 'apalagi', 'tepat', 'gunakan', 'dituturkan', 'berikut', 'sekalian', 'serupa', 'berkali-kali', 'berdatangan', 'dapat', 'benarkah', 'adanya', 'mungkin', 'sebutlah', 'meskipun', 'berakhir', 'per', 'menyeluruh', 'dari', 'namun', 'semakin', 'di', 'waktu', 'meminta', 'diakhirinya', 'wong', 'secukupnya', 'merupakan', 'tersebutlah', 'ditanyakan', 'diperlukan', 'berapalah', 'berlangsung', 'sini', 'ataukah', 'berarti', 'bagai', 'dipertanyakan', 'mengakhiri', 'sesegera', 'dalam', 'sangatlah', 'tiap', 'walaupun', 'menanyai', 'sekecil', 'turut', 'memperbuat', 'wahai', 'segalanya', 'agak', 'berlainan', 'atau', 'seolah-olah', 'mendapat', 'lagian', 'bahkan', 'masing', 'terakhir', 'mengingatkan', 'betul', 'tempat', 'khususnya', 'diinginkan', 'menyebutkan', 'seluruh', 'tambahnya', 'sebaik-baiknya', 'bagi', 'daripada', 'dirinya', 'pernah', 'setidak-tidaknya', 'yang', 'hampir', 'digunakan', 'kami', 'apakah', 'bapak', 'cukupkah', 'secara', 'belakangan', 'diibaratkannya', 'terjadi', 'terjadilah', 'seringnya', 'didatangkan', 'mengucapkannya', 'rupanya', 'ditunjuk', 'mengibaratkannya', 'lanjutnya', 'pukul', 'sayalah', 'sebenarnya', 'ditunjuki', 'berkehendak', 'bulan', 'keduanya', 'panjang', 'tahun', 'olehnya', 'kelima', 'dua', 'mempersoalkan', 'bahwa', 'mendapatkan', 'amat', 'berapakah', 'semampu', 'dimulainya', 'tersampaikan', 'sudahkah', 'kitalah', 'menegaskan', 'sebut', 'itukah', 'ujarnya', 'lama', 'dimaksudkan', 'diucapkannya', 'melihatnya', 'seolah', 'dilalui', 'kemungkinan', 'bermaksud', 'termasuk', 'memperkirakan', 'jadinya', 'padahal', 'dini', 'bakal', 'sebanyak', 'setengah', 'sebabnya', 'inilah', 'sekitar', 'lima', 'memerlukan', 'dimulai', 'kini', 'misalnya', 'menghendaki', 'guna', 'dibuat', 'punya', 'agar', 'umumnya', 'karenanya', 'itu', 'hendak', 'rasa', 'adalah', 'mulailah', 'mendatangkan', 'akan', 'awal', 'menaiki', 'membuat', 'mempergunakan', 'terlebih', 'lain', 'inikah', 'percuma', 'seterusnya', 'melainkan', 'kala', 'pastilah', 'berakhirnya', 'memintakan', 'terutama', 'perlukah', 'pihaknya', 'setibanya', 'lagi', 'dipastikan', 'merasa', 'sebagai', 'mengetahui', 'mana', 'segera', 'wah', 'tadi', 'pasti', 'justru', 'sedemikian', 'perlunya', 'semata-mata', 'bilakah', 'kita', 'bisakah', 'siapapun', 'dan', 'sendirinya', 'ialah', 'sebagaimana', 'hendaklah', 'minta', 'ucap', 'sana', 'tahu', 'berada', 'diperlihatkan', 'kinilah', 'diberikan', 'menyangkut', 'sebagian', 'tentu', 'sejak', 'selain', 'berturut-turut', 'begitu', 'saja', 'segala', 'dipersoalkan', 'tadinya', 'sela', 'besar', 'padanya', 'jika', 'maka', 'bakalan', 'antar', 'makanya', 'diakhiri', 'lamanya', 'berikutnya', 'siap', 'ketika', 'mampu', 'katakanlah', 'oleh', 'seperlunya', 'kepada', 'satu', 'demi', 'diingat', 'rasanya', 'biasa', 'haruslah', 'bagian', 'sebagainya', 'berkata', 'apabila', 'dipergunakan', 'berawal', 'memberikan', 'dekat', 'seluruhnya', 'seingat', 'harus', 'dimaksud', 'jadi', 'menggunakan', 'sekurang-kurangnya', 'memulai', 'jumlahnya', 'soalnya', 'ditunjukkannya', 'hendaknya', 'ingat-ingat', 'enggaknya', 'berujar', 'adapun', 'untuk', 'lanjut', 'keadaan', 'ditunjukkan', 'hingga', 'amatlah', 'andalah', 'bung', 'setidaknya', 'sekaligus', 'cara', 'menanti-nanti', 'tandasnya', 'jawaban', 'nanti', 'pertanyaan', 'bagaimanapun', 'kalian', 'diketahui', 'bukannya', 'tetapi', 'sedikit', 'naik', 'kepadanya', 'kamilah', 'bila', 'mengapa', 'akhiri', 'entahlah', 'sedang', 'beri', 'harusnya', 'pihak', 'waktunya', 'jelaslah', 'kebetulan', 'dulu', 'para', 'benar', 'kedua', 'keseluruhan', 'penting', 'sejauh', 'kecil', 'bersama', 'mempertanyakan', 'terasa', 'anda', 'jawab', 'usah', 'menunjukkan', 'kok', 'mempunyai', 'keterlaluan', 'yakni', 'tak', 'umum', 'apatah', 'sama-sama', 'bawah', 'saya', 'semaunya', 'sendirian', 'tentunya', 'malahan', 'sejumlah', 'terbanyak', 'pula', 'menandaskan', 'tertuju', 'menanti', 'bertanya', 'dimisalkan', 'bagaikan', 'menyampaikan', 'ungkapnya', 'akulah', 'persoalan', 'menanya', 'begini', 'usai', 'kalau', 'sedikitnya', 'apa', 'sepertinya', 'katanya', 'dengan', 'tandas', 'diungkapkan', 'ibaratnya', 'sesekali', 'berapapun', 'sebuah', 'tuturnya', 'disini', 'semula', 'akhir', 'kelihatannya', 'bermula', 'tegasnya', 'sebutnya', 'siapakah', 'sampai-sampai', 'tunjuk', 'selaku', 'memang', 'menuju', 'sepantasnya', 'memastikan', 'mereka', 'begitupun', 'dijelaskannya', 'kalaulah', 'dimaksudkannya', 'ingat', 'artinya', 'ini', 'kenapa', 'keinginan', 'sudah', 'kemungkinannya', 'masing-masing', 'malah', 'sejenak', 'atas', 'supaya', 'diminta', 'mengingat', 'begitulah', 'seorang', 'kan', 'katakan', 'luar', 'bermacam-macam', 'ditanyai', 'benarlah', 'saling', 'ibaratkan', 'ditujukan', 'berlebihan', 'seperti', 'caranya', 'toh', 'menyiapkan', 'agaknya', 'diperbuat', 'jawabnya', 'sebelumnya', 'ujar', 'ada', 'menambahkan', 'buat', 'berkeinginan', 'semampunya', 'jangankan', 'sinilah', 'tersebut', 'dikira', 'mengenai', 'diucapkan', 'kamu', 'cukuplah', 'yakin', 'setiba', 'menunjuki', 'menyatakan', 'demikianlah', 'beberapa', 'yaitu', 'setinggi', 'waduh', 'kelihatan', 'diperkirakan', 'sebetulnya', 'jumlah', 'berkenaan', 'dijawab', 'se', 'setelah', 'bersiap', 'seberapa', 'bukankah', 'bagaimanakah', 'inginkan', 'ucapnya', 'menjawab', 'jadilah', 'misal', 'ia', 'menginginkan', 'juga', 'memperlihatkan', 'jangan', 'jauh', 'tinggi', 'teringat-ingat', 'begitukah', 'disebut', 'perlu', 'mampukah', 'tanyakan', 'kesampaian', 'sesama', 'dilihat', 'bisa', 'sekarang', 'walau', 'kapanpun', 'sebaiknya', 'selanjutnya', 'bertutur', 'ditandaskan', 'mirip', 'mulai', 'rata', 'sebisanya', 'bermacam', 'jelaskan', 'sewaktu', 'sesudahnya', 'diberikannya', 'sering', 'mengira', 'sesampai', 'empat', 'seenaknya', 'ditanya', 'dibuatnya', 'awalnya', 'selamanya', 'ditegaskan', 'lebih', 'lewat', 'ataupun', 'sebelum', 'macam', 'masalahnya', 'sepantasnyalah', 'sambil', 'hari', 'beginilah', 'menurut', 'berapa', 'berbagai', 'meyakinkan', 'sebegitu', 'sepihak', 'sekalipun', 'baru', 'keseluruhannya', 'beginikah', 'ke', 'kira-kira', 'ingin', 'sempat', 'asalkan', 'nantinya', 'sebaik', 'sesaat', 'berturut', 'memihak', 'sebaliknya', 'tidakkah', 'jelasnya', 'akankah', 'sepanjang', 'tengah', 'tiga', 'dahulu', 'didapat', 'ternyata', 'cukup', 'kemudian', 'menanyakan', 'boleh', 'lalu', 'mungkinkah', 'maupun', 'belumlah', 'nah', 'selalu', 'serta', 'semasih', 'tampak', 'tertentu', 'mengatakannya', 'menjadi', 'belakang', 'sebab', 'sekurangnya', 'entah', 'memungkinkan', 'menuturkan', 'bahwasanya', 'kapan', 'pantas', 'mempersiapkan', 'semasa', 'pak', 'memisalkan', 'terlalu', 'terdapat', 'cuma', 'masa', 'sama', 'sekitarnya', 'bolehlah', 'masih', 'diantaranya', 'semisal', 'bolehkah', 'apaan', 'bagaimana', 'bukanlah', 'seketika', 'nyatanya', 'mendatangi', 'ditambahkan', 'nyaris', 'diantara', 'beginian', 'berlalu', 'disebutkan', 'ikut', 'pun', 'demikian', 'saat', 'dimulailah', 'hal', 'manakala', 'mengibaratkan', 'pertanyakan', 'tanya', 'mula', 'tiba-tiba', 'pentingnya', 'terhadap', 'sekiranya', 'bukan', 'datang', 'sebesar', 'berjumlah', 'terus', 'menunjuknya', 'terjadinya', 'terkira', 'ungkap', 'kembali', 'diperlukannya', 'kalaupun', 'berakhirlah', 'kamulah', 'suatu', 'antara', 'mendatang', 'janganlah', 'sekali', 'dilakukan', 'diri', 'baik', 'dikatakan', 'aku', 'kiranya', 'lah', 'masihkah', 'tapi', 'hanya', 'makin', 'sekali-kali', 'dimungkinkan', 'dimintai', 'asal', 'kelamaan', 'sedangkan', 'mengatakan', 'seusai', 'tetap', 'menunjuk', 'sementara', 'kira', 'sesuatu', 'dijelaskan', 'selama-lamanya', 'sajalah', 'dia', 'sehingga', 'keluar', 'masalah', 'diingatkan', 'dikatakannya', 'kasus', 'mengerjakan', 'tanpa', 'hanyalah', 'ibu', 'jelas', 'manalagi', 'sendiri', 'meyakini', 'terlihat', 'merekalah', 'semata', 'siapa', 'tentulah', 'mau', 'selama', 'tiba', 'semisalnya', 'ditunjuknya', 'misalkan', 'diperbuatnya', 'melihat', 'memberi', 'depan', 'bersiap-siap', 'diibaratkan', 'telah', 'biasanya', 'dipunyai', 'setiap', 'antaranya', 'disinilah', 'bertanya-tanya', 'pada', 'itulah', 'pertama', 'mengungkapkan', 'sekadarnya'}\n"
     ]
    },
    {
     "name": "stderr",
     "output_type": "stream",
     "text": [
      "[nltk_data] Downloading package stopwords to\n",
      "[nltk_data]     C:\\Users\\Rivaldo\\AppData\\Roaming\\nltk_data...\n",
      "[nltk_data]   Package stopwords is already up-to-date!\n"
     ]
    }
   ],
   "source": [
    "#Remove Indonesian Stopword\n",
    "nltk.download('stopwords')\n",
    "indonesia_stop = set(stopwords.words('indonesian'))\n",
    "indonesia_stop.discard('tidak')"
   ]
  },
  {
   "cell_type": "code",
   "execution_count": 13,
   "id": "975d0ea1",
   "metadata": {},
   "outputs": [],
   "source": [
    "def hilang_stopword(data):\n",
    "    delete_stop = [token for token in data if token not in indonesia_stop]\n",
    "    return_data = ' '.join(delete_stop)\n",
    "    return return_data\n",
    "dataset_sg['ulasan'] = dataset_sg['ulasan'].apply(hilang_stopword)"
   ]
  },
  {
   "cell_type": "code",
   "execution_count": 15,
   "id": "c3baf819",
   "metadata": {},
   "outputs": [
    {
     "data": {
      "text/plain": [
       "0     wisata trawas sumber air pandang sawah gunung ...\n",
       "1                renov wisata mandi enang kurang nyaman\n",
       "2            seru enggak itip baju enggak tenang renang\n",
       "3           asyik suasana desa putar gunung udara sejuk\n",
       "4                           sejuk indah asli sejuk asri\n",
       "5     bagus banget enak rekreasi luarga kolam renang...\n",
       "6       wisata sawah enang bersih tata enak bawa luarga\n",
       "7                                     wisata murah riah\n",
       "8     nyaman kunjung indah bagus tenang rest nyaman ...\n",
       "9     wisata alam asri pandang sawah kolam renang ai...\n",
       "10                                       suasana mantab\n",
       "11                            wisata gunung lumay bagus\n",
       "12                                    tiket murah orang\n",
       "13                                         wisata tutup\n",
       "14           bagus murah sayang akses jalan sempit batu\n",
       "15    wisata bagus suasana sawah pandi air sumber as...\n",
       "16                                       belum maksimal\n",
       "17    jos murah meriah enak bawa motor akses jalan m...\n",
       "Name: ulasan, dtype: object"
      ]
     },
     "execution_count": 15,
     "metadata": {},
     "output_type": "execute_result"
    }
   ],
   "source": [
    "dataset_sg['ulasan']"
   ]
  },
  {
   "cell_type": "code",
   "execution_count": 16,
   "id": "e13631a8",
   "metadata": {},
   "outputs": [],
   "source": [
    "dataset_sg.to_csv('try_ap_n_s.csv', index=False)"
   ]
  }
 ],
 "metadata": {
  "kernelspec": {
   "display_name": "Python 3",
   "language": "python",
   "name": "python3"
  },
  "language_info": {
   "codemirror_mode": {
    "name": "ipython",
    "version": 3
   },
   "file_extension": ".py",
   "mimetype": "text/x-python",
   "name": "python",
   "nbconvert_exporter": "python",
   "pygments_lexer": "ipython3",
   "version": "3.8.8"
  }
 },
 "nbformat": 4,
 "nbformat_minor": 5
}
