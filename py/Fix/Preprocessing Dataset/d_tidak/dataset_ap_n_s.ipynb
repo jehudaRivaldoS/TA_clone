{
 "cells": [
  {
   "cell_type": "code",
   "execution_count": 1,
   "id": "68123eda",
   "metadata": {},
   "outputs": [
    {
     "name": "stdout",
     "output_type": "stream",
     "text": [
      "Requirement already satisfied: sastrawi in d:\\anaconda\\lib\\site-packages (1.0.1)\n",
      "Note: you may need to restart the kernel to use updated packages.\n"
     ]
    },
    {
     "name": "stderr",
     "output_type": "stream",
     "text": [
      "\n",
      "[notice] A new release of pip is available: 23.1 -> 23.1.2\n",
      "[notice] To update, run: python.exe -m pip install --upgrade pip\n"
     ]
    }
   ],
   "source": [
    "pip install sastrawi"
   ]
  },
  {
   "cell_type": "code",
   "execution_count": 2,
   "id": "ebec2cbe",
   "metadata": {},
   "outputs": [],
   "source": [
    "import pandas as pd \n",
    "import string \n",
    "import nltk \n",
    "from nltk.tokenize import word_tokenize\n",
    "from nltk.corpus import stopwords\n",
    "import re\n",
    "from snowballstemmer import stemmer"
   ]
  },
  {
   "cell_type": "code",
   "execution_count": 3,
   "id": "9f7b5ade",
   "metadata": {},
   "outputs": [],
   "source": [
    "dataset_sg = pd.read_csv('data_fix.csv')"
   ]
  },
  {
   "cell_type": "code",
   "execution_count": 4,
   "id": "de9522b9",
   "metadata": {},
   "outputs": [],
   "source": [
    "#Case Folding\n",
    "data_baru = dataset_sg['Ulasan'].str.lower()\n",
    "dataset_sg['Ulasan'] = data_baru"
   ]
  },
  {
   "cell_type": "code",
   "execution_count": 5,
   "id": "82caa867",
   "metadata": {},
   "outputs": [],
   "source": [
    "#Menghapus tag <br>\n",
    "dataset_sg['Ulasan'] = dataset_sg['Ulasan'].replace(\"<br>\", \" \")"
   ]
  },
  {
   "cell_type": "code",
   "execution_count": 6,
   "id": "2e6a9fc9",
   "metadata": {},
   "outputs": [],
   "source": [
    "#Hapus angka dan simbol\n",
    "def hapus_angka_simbol(data):\n",
    "    data_bersih = re.sub('[^a-zA-Z]', ' ', data)\n",
    "    return data_bersih\n",
    "\n",
    "dataset_sg['Ulasan'] = dataset_sg['Ulasan'].apply(hapus_angka_simbol)"
   ]
  },
  {
   "cell_type": "code",
   "execution_count": 7,
   "id": "f1eba2b7",
   "metadata": {},
   "outputs": [],
   "source": [
    "#baca slangword\n",
    "slang_dict = pd.read_excel('sw.xlsm')\n",
    "\n",
    "# Buat dictionary untuk mapping slangword dan standar\n",
    "slang_map = dict(zip(slang_dict['slang'], slang_dict['formal']))"
   ]
  },
  {
   "cell_type": "code",
   "execution_count": 8,
   "id": "62a8a5cc",
   "metadata": {},
   "outputs": [],
   "source": [
    "# Membuat fungsi untuk mencari dan mengganti slangword\n",
    "def hapus_slangword(text):\n",
    "    for key in slang_map:\n",
    "        text = re.sub(rf\"\\b{key}\\b\", slang_map[key], text)\n",
    "    return text\n",
    "\n",
    "# Mengganti slangword di kolom tertentu\n",
    "dataset_sg['Ulasan'] = dataset_sg['Ulasan'].apply(hapus_slangword)"
   ]
  },
  {
   "cell_type": "code",
   "execution_count": 9,
   "id": "4f785706",
   "metadata": {},
   "outputs": [],
   "source": [
    "#Tokenizing with unigram\n",
    "def token_unigram(data):\n",
    "    datas = word_tokenize(data)\n",
    "    return [token for token in datas if len(token) > 1]\n",
    "\n",
    "dataset_sg['Ulasan'] = dataset_sg['Ulasan'].apply(token_unigram)"
   ]
  },
  {
   "cell_type": "code",
   "execution_count": 10,
   "id": "ff976950",
   "metadata": {},
   "outputs": [
    {
     "name": "stderr",
     "output_type": "stream",
     "text": [
      "[nltk_data] Downloading package stopwords to\n",
      "[nltk_data]     C:\\Users\\Rivaldo\\AppData\\Roaming\\nltk_data...\n",
      "[nltk_data]   Package stopwords is already up-to-date!\n"
     ]
    }
   ],
   "source": [
    "#Remove Indonesian Stopword\n",
    "nltk.download('stopwords')\n",
    "indonesia_stop = set(stopwords.words('indonesian'))\n",
    "indonesia_stop.discard('tidak')"
   ]
  },
  {
   "cell_type": "code",
   "execution_count": 11,
   "id": "975d0ea1",
   "metadata": {},
   "outputs": [],
   "source": [
    "def hilang_stopword(data):\n",
    "    delete_stop = [token for token in data if token not in indonesia_stop]\n",
    "    return_data = ' '.join(delete_stop)\n",
    "    return return_data\n",
    "dataset_sg['Ulasan'] = dataset_sg['Ulasan'].apply(hilang_stopword)"
   ]
  },
  {
   "cell_type": "code",
   "execution_count": 12,
   "id": "ef2ba9ca",
   "metadata": {},
   "outputs": [],
   "source": [
    "def stemming(text):\n",
    "    indo_stemmer = stemmer('indonesian')\n",
    "    stemmed_text = ' '.join(indo_stemmer.stemWords(text.split()))\n",
    "    return stemmed_text\n",
    "\n",
    "dataset_sg['Ulasan'] = dataset_sg['Ulasan'].apply(stemming)"
   ]
  },
  {
   "cell_type": "code",
   "execution_count": 13,
   "id": "c3baf819",
   "metadata": {},
   "outputs": [
    {
     "data": {
      "text/plain": [
       "0                              sayang jalan masuk sempit\n",
       "1             wisata bagus buang sampah sembarang sayang\n",
       "2                    loket parkir biar tidak macet cepat\n",
       "3      orang kota sibuk sawah pandang arik duduk sant...\n",
       "4      wow alam pandang asri dingin kayak pandanga ca...\n",
       "                             ...                        \n",
       "669                               jalan utama baik mobil\n",
       "670    panas banget baik pandang nya bagus air segar ...\n",
       "671                               tutup pagi paka banget\n",
       "672    bagus alam sayang nya batu alas kolam renang t...\n",
       "673            bagus pandang sayang makan tidak variatif\n",
       "Name: Ulasan, Length: 674, dtype: object"
      ]
     },
     "execution_count": 13,
     "metadata": {},
     "output_type": "execute_result"
    }
   ],
   "source": [
    "dataset_sg['Ulasan']"
   ]
  },
  {
   "cell_type": "code",
   "execution_count": 15,
   "id": "e13631a8",
   "metadata": {},
   "outputs": [],
   "source": [
    "dataset_sg.to_csv('d_ns_t.csv', index=False)"
   ]
  }
 ],
 "metadata": {
  "kernelspec": {
   "display_name": "Python 3",
   "language": "python",
   "name": "python3"
  },
  "language_info": {
   "codemirror_mode": {
    "name": "ipython",
    "version": 3
   },
   "file_extension": ".py",
   "mimetype": "text/x-python",
   "name": "python",
   "nbconvert_exporter": "python",
   "pygments_lexer": "ipython3",
   "version": "3.8.8"
  }
 },
 "nbformat": 4,
 "nbformat_minor": 5
}
