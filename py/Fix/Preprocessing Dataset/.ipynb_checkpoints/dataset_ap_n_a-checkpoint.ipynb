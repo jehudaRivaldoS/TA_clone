{
 "cells": [
  {
   "cell_type": "code",
   "execution_count": 1,
   "id": "68123eda",
   "metadata": {},
   "outputs": [
    {
     "name": "stdout",
     "output_type": "stream",
     "text": [
      "Requirement already satisfied: sastrawi in d:\\anaconda\\lib\\site-packages (1.0.1)\n",
      "Note: you may need to restart the kernel to use updated packages.\n"
     ]
    }
   ],
   "source": [
    "pip install sastrawi"
   ]
  },
  {
   "cell_type": "code",
   "execution_count": 2,
   "id": "ebec2cbe",
   "metadata": {},
   "outputs": [],
   "source": [
    "import pandas as pd \n",
    "import string \n",
    "import nltk \n",
    "from nltk.tokenize import word_tokenize\n",
    "from nltk.corpus import stopwords\n",
    "from Sastrawi.Stemmer.StemmerFactory import StemmerFactory\n",
    "import re"
   ]
  },
  {
   "cell_type": "code",
   "execution_count": 3,
   "id": "9f7b5ade",
   "metadata": {},
   "outputs": [],
   "source": [
    "dataset_sg = pd.read_csv('data.csv')"
   ]
  },
  {
   "cell_type": "code",
   "execution_count": 4,
   "id": "de9522b9",
   "metadata": {},
   "outputs": [],
   "source": [
    "#Case Folding\n",
    "data_baru = dataset_sg['Ulasan'].str.lower()\n",
    "dataset_sg['Ulasan'] = data_baru"
   ]
  },
  {
   "cell_type": "code",
   "execution_count": 5,
   "id": "82caa867",
   "metadata": {},
   "outputs": [],
   "source": [
    "#Menghapus tag <br>\n",
    "dataset_sg['Ulasan'] = dataset_sg['Ulasan'].replace(\"<br>\", \" \")"
   ]
  },
  {
   "cell_type": "code",
   "execution_count": 6,
   "id": "2e6a9fc9",
   "metadata": {},
   "outputs": [],
   "source": [
    "#Hapus angka dan simbol\n",
    "def hapus_angka_simbol(data):\n",
    "    data_bersih = re.sub('[^a-zA-Z]', ' ', data)\n",
    "    return data_bersih\n",
    "\n",
    "dataset_sg['Ulasan'] = dataset_sg['Ulasan'].apply(hapus_angka_simbol)"
   ]
  },
  {
   "cell_type": "code",
   "execution_count": 7,
   "id": "f1eba2b7",
   "metadata": {},
   "outputs": [],
   "source": [
    "#baca slangword\n",
    "slang_dict = pd.read_excel('sw.xlsm')\n",
    "\n",
    "# Buat dictionary untuk mapping slangword dan standar\n",
    "slang_map = dict(zip(slang_dict['slang'], slang_dict['formal']))"
   ]
  },
  {
   "cell_type": "code",
   "execution_count": 8,
   "id": "62a8a5cc",
   "metadata": {},
   "outputs": [],
   "source": [
    "# Membuat fungsi untuk mencari dan mengganti slangword\n",
    "def hapus_slangword(text):\n",
    "    for key in slang_map:\n",
    "        text = re.sub(rf\"\\b{key}\\b\", slang_map[key], text)\n",
    "    return text\n",
    "\n",
    "# Mengganti slangword di kolom tertentu\n",
    "dataset_sg['Ulasan'] = dataset_sg['Ulasan'].apply(hapus_slangword)"
   ]
  },
  {
   "cell_type": "code",
   "execution_count": 9,
   "id": "4f785706",
   "metadata": {},
   "outputs": [],
   "source": [
    "#Tokenizing with unigram\n",
    "def token_unigram(data):\n",
    "    datas = word_tokenize(data)\n",
    "    return [token for token in datas if len(token) > 1]\n",
    "\n",
    "dataset_sg['Ulasan'] = dataset_sg['Ulasan'].apply(token_unigram)"
   ]
  },
  {
   "cell_type": "code",
   "execution_count": 10,
   "id": "ff976950",
   "metadata": {},
   "outputs": [
    {
     "name": "stdout",
     "output_type": "stream",
     "text": [
      "{'tersampaikan', 'wong', 'semula', 'sekali', 'sendirian', 'ibu', 'caranya', 'berkata', 'sebaik', 'sudahkah', 'ungkap', 'sekalian', 'enggaknya', 'begitupun', 'kira', 'lainnya', 'jawabnya', 'dalam', 'memisalkan', 'mampukah', 'mempertanyakan', 'terus', 'ingin', 'sesaat', 'diperlihatkan', 'memperlihatkan', 'mungkinkah', 'melihat', 'terlebih', 'tunjuk', 'sebagainya', 'ditunjuki', 'mampu', 'mau', 'kemungkinan', 'sendiri', 'sangatlah', 'paling', 'diingatkan', 'karenanya', 'kalian', 'bagi', 'selanjutnya', 'awalnya', 'disinilah', 'jikalau', 'amat', 'malahan', 'sedangkan', 'diperlukan', 'bersiap', 'perlukah', 'menanya', 'setinggi', 'kelihatan', 'menyeluruh', 'seluruh', 'beginilah', 'berikan', 'pentingnya', 'memberikan', 'katakan', 'sebelumnya', 'sebanyak', 'jika', 'adanya', 'sama', 'lalu', 'seberapa', 'tanpa', 'tegas', 'jelaskan', 'semisal', 'beginikah', 'tadinya', 'guna', 'menyiapkan', 'berturut', 'mungkin', 'saya', 'tetap', 'ditambahkan', 'lagian', 'harus', 'kepadanya', 'suatu', 'ketika', 'memperkirakan', 'menyatakan', 'ditanyakan', 'meskipun', 'sejenak', 'jadi', 'terakhir', 'diucapkan', 'terjadinya', 'inginkah', 'hal', 'dulu', 'entah', 'sejak', 'kata', 'umum', 'ditunjukkan', 'mereka', 'sajalah', 'itu', 'mengetahui', 'tuturnya', 'dibuatnya', 'inikah', 'antaranya', 'belumlah', 'kasus', 'terdahulu', 'keseluruhannya', 'sebelum', 'sebisanya', 'hari', 'ibaratnya', 'ada', 'atau', 'bermula', 'jelasnya', 'mulailah', 'digunakan', 'bertutur', 'perlu', 'asalkan', 'jangankan', 'berikutnya', 'berlangsung', 'bolehkah', 'diibaratkan', 'mempunyai', 'akan', 'buat', 'menanyakan', 'sehingga', 'diperlukannya', 'tak', 'sebaliknya', 'mengira', 'sedikit', 'sebabnya', 'lebih', 'nah', 'semaunya', 'benarkah', 'sayalah', 'sinilah', 'mengerjakan', 'menuju', 'setelah', 'yang', 'lanjut', 'sini', 'didatangkan', 'berada', 'sepanjang', 'akhir', 'sebenarnya', 'bahwa', 'bukannya', 'secukupnya', 'diketahuinya', 'teringat-ingat', 'betul', 'mulanya', 'masih', 'disampaikan', 'ialah', 'memintakan', 'memulai', 'meski', 'sepertinya', 'panjang', 'diakhiri', 'tiba-tiba', 'cuma', 'seharusnya', 'terhadapnya', 'kapankah', 'dijelaskan', 'terlihat', 'tertentu', 'balik', 'turut', 'serta', 'dituturkannya', 'akankah', 'pertanyakan', 'kini', 'kenapa', 'dong', 'ibaratkan', 'memberi', 'itukah', 'memihak', 'diperbuat', 'keterlaluan', 'cukupkah', 'menjadi', 'sesama', 'berujar', 'menanti', 'seolah-olah', 'membuat', 'pukul', 'tertuju', 'benarlah', 'sekaligus', 'selama-lamanya', 'ungkapnya', 'ditunjuk', 'berawal', 'menaiki', 'sudah', 'diri', 'apaan', 'kelamaan', 'melakukan', 'sampai', 'boleh', 'sempat', 'tiap', 'keadaan', 'berapa', 'setengah', 'sementara', 'bagai', 'datang', 'asal', 'pantas', 'waduh', 'oleh', 'sela', 'cukup', 'menegaskan', 'hanya', 'masalah', 'dimulai', 'meyakini', 'olehnya', 'sekalipun', 'jawab', 'luar', 'sambil', 'kemudian', 'demi', 'ikut', 'memungkinkan', 'kita', 'berarti', 'makin', 'sebutlah', 'diperkirakan', 'lah', 'hendaklah', 'kebetulan', 'tersebutlah', 'berkehendak', 'setidaknya', 'seolah', 'ternyata', 'kedua', 'misalnya', 'banyak', 'diberikannya', 'antara', 'artinya', 'lama', 'sepantasnya', 'bulan', 'padanya', 'tahun', 'rupanya', 'bermaksud', 'bahwasanya', 'menantikan', 'waktunya', 'waktu', 'semasa', 'lima', 'melalui', 'saja', 'nantinya', 'dikatakan', 'teringat', 'misal', 'keseluruhan', 'menanyai', 'sering', 'supaya', 'tambah', 'setiap', 'kira-kira', 'tentu', 'se', 'rata', 'kapan', 'tersebut', 'sebut', 'dimulainya', 'tanyakan', 'begini', 'semasih', 'yaitu', 'inginkan', 'merekalah', 'diantara', 'siapakah', 'anda', 'terjadilah', 'terutama', 'jumlahnya', 'inilah', 'ataupun', 'pertanyaan', 'diibaratkannya', 'bagaimanapun', 'bersama-sama', 'berlebihan', 'bertanya', 'siapa', 'ujarnya', 'sebesar', 'baik', 'kalau', 'mendapat', 'juga', 'sesuatu', 'menggunakan', 'agaknya', 'belakang', 'kalaupun', 'tapi', 'sendirinya', 'dua', 'agak', 'berapakah', 'mula', 'misalkan', 'benar', 'dikerjakan', 'merupakan', 'wahai', 'didapat', 'masihkah', 'memerlukan', 'itulah', 'kan', 'ditandaskan', 'sekali-kali', 'akhirnya', 'seorang', 'selalu', 'mempergunakan', 'diakhirinya', 'termasuk', 'katakanlah', 'kapanpun', 'berikut', 'pada', 'tandasnya', 'jelaslah', 'dipertanyakan', 'mendatangi', 'pastilah', 'seringnya', 'mengapa', 'bisa', 'janganlah', 'jumlah', 'sekurangnya', 'berjumlah', 'setidak-tidaknya', 'semampunya', 'diperbuatnya', 'setempat', 'tentulah', 'sesuatunya', 'seenaknya', 'belakangan', 'empat', 'tegasnya', 'percuma', 'mulai', 'dikira', 'tentunya', 'naik', 'manakala', 'justru', 'menunjuk', 'dibuat', 'semacam', 'seterusnya', 'berkenaan', 'sebaiknya', 'beri', 'menjelaskan', 'semata-mata', 'sesudahnya', 'berakhir', 'selain', 'menghendaki', 'macam', 'harusnya', 'semuanya', 'belum', 'pun', 'sebegitu', 'usai', 'hendaknya', 'walaupun', 'antar', 'lain', 'kamu', 'pertama-tama', 'siapapun', 'dilalui', 'kurang', 'hingga', 'bagaimanakah', 'tetapi', 'nyatanya', 'pernah', 'dikarenakan', 'semisalnya', 'tentang', 'sepihak', 'sebetulnya', 'bakal', 'hampir', 'menambahkan', 'terasa', 'kalaulah', 'segala', 'sekadarnya', 'mendatangkan', 'yakin', 'besar', 'bila', 'kesampaian', 'dipersoalkan', 'memang', 'meyakinkan', 'pula', 'secara', 'ditanyai', 'semata', 'baru', 'sedikitnya', 'mengingat', 'memastikan', 'seketika', 'selamanya', 'diminta', 'punya', 'bapak', 'sedemikian', 'berapapun', 'kelima', 'dilihat', 'kecil', 'sewaktu', 'mengakhiri', 'jelas', 'sudahlah', 'dirinya', 'ibarat', 'penting', 'bakalan', 'saling', 'betulkah', 'ingat-ingat', 'depan', 'kami', 'semua', 'bersama', 'menyampaikan', 'adalah', 'siap', 'sesekali', 'ia', 'soal', 'masa', 'dimisalkan', 'disebutkannya', 'sekiranya', 'tampak', 'dini', 'sepantasnyalah', 'tinggi', 'setibanya', 'di', 'memperbuat', 'keinginan', 'ditunjuknya', 'sampai-sampai', 'sekecil', 'tutur', 'bermacam-macam', 'bisakah', 'menunjukkan', 'menurut', 'kinilah', 'berakhirnya', 'tanya', 'rasanya', 'mendapatkan', 'apa', 'bawah', 'pasti', 'tambahnya', 'aku', 'begitukah', 'dialah', 'seusai', 'dia', 'ini', 'atas', 'dimulailah', 'persoalan', 'sana', 'berkeinginan', 'berupa', 'bung', 'berturut-turut', 'karena', 'dipastikan', 'diketahui', 'demikianlah', 'diinginkan', 'kepada', 'mempersiapkan', 'kala', 'walau', 'ditunjukkannya', 'hendak', 'ujar', 'keluar', 'berapalah', 'berkali-kali', 'pihak', 'bukankah', 'tanyanya', 'dikatakannya', 'tampaknya', 'cukuplah', 'kelihatannya', 'mengungkapkan', 'merasa', 'lagi', 'disini', 'melainkan', 'saat', 'setiba', 'toh', 'usah', 'kitalah', 'bagaikan', 'disebutkan', 'sekarang', 'adapun', 'masing', 'dilakukan', 'sebab', 'demikian', 'malah', 'sampaikan', 'diberikan', 'berdatangan', 'menunjuknya', 'berlalu', 'sedang', 'hanyalah', 'tiga', 'dijawab', 'diberi', 'andalah', 'sebegini', 'nanti', 'dan', 'segalanya', 'dekat', 'seseorang', 'maupun', 'sebagaimana', 'seperlunya', 'kemungkinannya', 'akulah', 'ucapnya', 'berlainan', 'beberapa', 'apabila', 'serupa', 'terdapat', 'beginian', 'terhadap', 'bukanlah', 'jauh', 'mengatakannya', 'menginginkan', 'segera', 'dijelaskannya', 'bersiap-siap', 'menunjuki', 'mengingatkan', 'entahlah', 'dipergunakan', 'diingat', 'amatlah', 'ditujukan', 'lewat', 'minta', 'sebuah', 'tadi', 'satu', 'tempat', 'tidakkah', 'jadinya', 'menandaskan', 'sejauh', 'menyebutkan', 'rasa', 'biasanya', 'ingat', 'biasa', 'khususnya', 'dengan', 'tiba', 'ucap', 'bermacam', 'para', 'mengibaratkan', 'semakin', 'bagian', 'seluruhnya', 'soalnya', 'terjadi', 'tahu', 'cara', 'diungkapkan', 'menyangkut', 'terlalu', 'berbagai', 'bahkan', 'sesudah', 'seperti', 'mengenai', 'tandas', 'haruslah', 'mengibaratkannya', 'mirip', 'terdiri', 'dimaksud', 'mana', 'ditegaskan', 'enggak', 'dimaksudnya', 'bertanya-tanya', 'sesampai', 'kembali', 'dimaksudkannya', 'ditanya', 'pak', 'umumnya', 'wah', 'keduanya', 'mendatang', 'dimintai', 'dimungkinkan', 'saatnya', 'menjawab', 'kamilah', 'sekadar', 'apakah', 'sesegera', 'bagaimana', 'daripada', 'mempersoalkan', 'apalagi', 'diantaranya', 'dipunyai', 'per', 'telah', 'sama-sama', 'selaku', 'maka', 'bukan', 'agar', 'bekerja', 'sebaik-baiknya', 'bolehlah', 'kok', 'sekurang-kurangnya', 'manalagi', 'akhiri', 'menuturkan', 'jawaban', 'melihatnya', 'perlunya', 'namun', 'terkira', 'semampu', 'awal', 'dapat', 'tidaklah', 'mengucapkan', 'sejumlah', 'yakni', 'dahulu', 'menanti-nanti', 'katanya', 'sebagian', 'masalahnya', 'jangan', 'sekitar', 'jadilah', 'ataukah', 'dituturkan', 'diucapkannya', 'selama', 'tengah', 'disebut', 'padahal', 'dimaksudkan', 'mengatakan', 'kamulah', 'kiranya', 'dari', 'nyaris', 'begitulah', 'seingat', 'sebagai', 'pihaknya', 'sekitarnya', 'tepat', 'terbanyak', 'lamanya', 'sangat', 'mengucapkannya', 'sebutnya', 'begitu', 'lanjutnya', 'meminta', 'ke', 'makanya', 'apatah', 'masing-masing', 'bilakah', 'gunakan', 'pertama', 'untuk', 'berakhirlah'}\n"
     ]
    },
    {
     "name": "stderr",
     "output_type": "stream",
     "text": [
      "[nltk_data] Downloading package stopwords to\n",
      "[nltk_data]     C:\\Users\\Rivaldo\\AppData\\Roaming\\nltk_data...\n",
      "[nltk_data]   Package stopwords is already up-to-date!\n"
     ]
    }
   ],
   "source": [
    "#Remove Indonesian Stopword\n",
    "nltk.download('stopwords')\n",
    "indonesia_stop = set(stopwords.words('indonesian'))\n",
    "indonesia_stop.discard('tidak')"
   ]
  },
  {
   "cell_type": "code",
   "execution_count": 11,
   "id": "975d0ea1",
   "metadata": {},
   "outputs": [],
   "source": [
    "def hilang_stopword(data):\n",
    "    delete_stop = [token for token in data if token not in indonesia_stop]\n",
    "    return_data = ' '.join(delete_stop)\n",
    "    return return_data\n",
    "dataset_sg['Ulasan'] = dataset_sg['Ulasan'].apply(hilang_stopword)"
   ]
  },
  {
   "cell_type": "code",
   "execution_count": 12,
   "id": "ef2ba9ca",
   "metadata": {},
   "outputs": [],
   "source": [
    "#Stemming with Sastrawi\n",
    "f = StemmerFactory()\n",
    "stem = f.create_stemmer()\n",
    "\n",
    "def stemming(data):\n",
    "    data = stem.stem(data)\n",
    "    return data\n",
    "\n",
    "dataset_sg['Ulasan'] = dataset_sg['Ulasan'].apply(stemming)"
   ]
  },
  {
   "cell_type": "code",
   "execution_count": 13,
   "id": "c3baf819",
   "metadata": {},
   "outputs": [
    {
     "data": {
      "text/plain": [
       "0                              sayang jalan masuk sempit\n",
       "1             wisata bagus buang sampah sembarang sayang\n",
       "2                    loket parkir biar tidak macet cepat\n",
       "3      orang kota sibuk sawah pandang tarik duduk san...\n",
       "4      wow alam pandang asri dingin kayak pemandangan...\n",
       "                             ...                        \n",
       "669                               jalan utama baik mobil\n",
       "670    panas banget baik pandang nya bagus air segar ...\n",
       "671                              tutup pagi pakai banget\n",
       "672    bagus alami sayang nya batu alas kolam renang ...\n",
       "673            bagus pandang sayang makan tidak variatif\n",
       "Name: Ulasan, Length: 674, dtype: object"
      ]
     },
     "execution_count": 13,
     "metadata": {},
     "output_type": "execute_result"
    }
   ],
   "source": [
    "dataset_sg['Ulasan']"
   ]
  },
  {
   "cell_type": "code",
   "execution_count": 14,
   "id": "e13631a8",
   "metadata": {},
   "outputs": [],
   "source": [
    "dataset_sg.to_csv('data_ap_n_a.csv', index=False)"
   ]
  }
 ],
 "metadata": {
  "kernelspec": {
   "display_name": "Python 3",
   "language": "python",
   "name": "python3"
  },
  "language_info": {
   "codemirror_mode": {
    "name": "ipython",
    "version": 3
   },
   "file_extension": ".py",
   "mimetype": "text/x-python",
   "name": "python",
   "nbconvert_exporter": "python",
   "pygments_lexer": "ipython3",
   "version": "3.8.8"
  }
 },
 "nbformat": 4,
 "nbformat_minor": 5
}
