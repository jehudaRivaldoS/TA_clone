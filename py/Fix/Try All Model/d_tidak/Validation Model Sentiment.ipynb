{
 "cells": [
  {
   "cell_type": "code",
   "execution_count": 2,
   "id": "17a0725b",
   "metadata": {},
   "outputs": [],
   "source": [
    "import tensorflow as tf\n",
    "import numpy as np\n",
    "import pandas as pd\n",
    "from keras.preprocessing.text import Tokenizer\n",
    "from sklearn.preprocessing import LabelEncoder\n",
    "from sklearn.metrics import accuracy_score\n",
    "from sklearn.metrics import classification_report\n",
    "from keras.preprocessing.sequence import pad_sequences\n",
    "from sklearn.preprocessing import LabelEncoder\n",
    "from sklearn.metrics import accuracy_score\n",
    "from sklearn.metrics import classification_report\n",
    "from sklearn.metrics import confusion_matrix"
   ]
  },
  {
   "cell_type": "code",
   "execution_count": 3,
   "id": "4b559b1d",
   "metadata": {},
   "outputs": [],
   "source": [
    "#Load model\n",
    "sa = tf.keras.models.load_model('s_a_t.h5')\n",
    "k = tf.keras.models.load_model('sa_k_dt.h5')\n",
    "w = tf.keras.models.load_model('sa_w_dt.h5')\n",
    "f = tf.keras.models.load_model('sa_f_dt.h5')\n",
    "p = tf.keras.models.load_model('s_a_p.h5')"
   ]
  },
  {
   "cell_type": "code",
   "execution_count": 4,
   "id": "6df21f63",
   "metadata": {},
   "outputs": [],
   "source": [
    "#load dataset after preprocessing\n",
    "dsa = pd.read_csv('d_sa_t.csv')"
   ]
  },
  {
   "cell_type": "code",
   "execution_count": 5,
   "id": "0ac58981",
   "metadata": {},
   "outputs": [
    {
     "name": "stdout",
     "output_type": "stream",
     "text": [
      "Accuracy: 1.0\n",
      "[[1 0]\n",
      " [0 1]]\n",
      "              precision    recall  f1-score   support\n",
      "\n",
      "           0       1.00      1.00      1.00         1\n",
      "           1       1.00      1.00      1.00         1\n",
      "\n",
      "    accuracy                           1.00         2\n",
      "   macro avg       1.00      1.00      1.00         2\n",
      "weighted avg       1.00      1.00      1.00         2\n",
      "\n"
     ]
    }
   ],
   "source": [
    "# NA\n",
    "# Preprocess data\n",
    "data = [\"sawah hijau luas mendung\", \"toilet kotor ember lihat luar\"]\n",
    "label = [1,0]\n",
    "tokenizer = Tokenizer(num_words=10000, oov_token='<OOV>')\n",
    "tokenizer.fit_on_texts(dsa['Ulasan'].astype(str))\n",
    "X = tokenizer.texts_to_sequences(data)\n",
    "X = pad_sequences(X, maxlen=50, padding='post')\n",
    "\n",
    "# Make predictions\n",
    "predictions = sa.predict(X)\n",
    "rounded_predictions = np.round(predictions).astype(int)\n",
    "\n",
    "accuracy = accuracy_score(label, rounded_predictions)\n",
    "report = classification_report(label, rounded_predictions)\n",
    "cm = confusion_matrix(label, rounded_predictions)\n",
    "\n",
    "print('Accuracy:', accuracy)\n",
    "print(cm)\n",
    "print(report)"
   ]
  },
  {
   "cell_type": "code",
   "execution_count": 6,
   "id": "6760503c",
   "metadata": {},
   "outputs": [],
   "source": [
    "#load data test after preprocessing\n",
    "tsa = pd.read_csv('vt_sa.csv')"
   ]
  },
  {
   "cell_type": "code",
   "execution_count": 7,
   "id": "81f77a56",
   "metadata": {},
   "outputs": [
    {
     "name": "stdout",
     "output_type": "stream",
     "text": [
      "Accuracy: 0.8888888888888888\n",
      "[[15  9]\n",
      " [ 2 73]]\n",
      "              precision    recall  f1-score   support\n",
      "\n",
      "           0       0.88      0.62      0.73        24\n",
      "           1       0.89      0.97      0.93        75\n",
      "\n",
      "    accuracy                           0.89        99\n",
      "   macro avg       0.89      0.80      0.83        99\n",
      "weighted avg       0.89      0.89      0.88        99\n",
      "\n"
     ]
    }
   ],
   "source": [
    "# Sentiment\n",
    "# Preprocess data\n",
    "tokenizer = Tokenizer(num_words=10000, oov_token='<OOV>')\n",
    "tokenizer.fit_on_texts(dsa['Ulasan'].astype(str))\n",
    "X = tokenizer.texts_to_sequences(tsa['ulasan'].astype(str))\n",
    "X = pad_sequences(X, maxlen=50, padding='post')\n",
    "\n",
    "# Make predictions\n",
    "predictions = sa.predict(X)\n",
    "rounded_predictions = np.round(predictions).astype(int)\n",
    "\n",
    "accuracy = accuracy_score(tsa['label'], rounded_predictions)\n",
    "report = classification_report(tsa['label'], rounded_predictions)\n",
    "cm = confusion_matrix(tsa['label'], rounded_predictions)\n",
    "\n",
    "print('Accuracy:', accuracy)\n",
    "print(cm)\n",
    "print(report)"
   ]
  },
  {
   "cell_type": "code",
   "execution_count": 8,
   "id": "f931c19a",
   "metadata": {},
   "outputs": [
    {
     "name": "stdout",
     "output_type": "stream",
     "text": [
      "Accuracy: 0.9292929292929293\n",
      "[[86  2]\n",
      " [ 5  6]]\n",
      "              precision    recall  f1-score   support\n",
      "\n",
      "           0       0.95      0.98      0.96        88\n",
      "           1       0.75      0.55      0.63        11\n",
      "\n",
      "    accuracy                           0.93        99\n",
      "   macro avg       0.85      0.76      0.80        99\n",
      "weighted avg       0.92      0.93      0.92        99\n",
      "\n"
     ]
    }
   ],
   "source": [
    "# Kuliner\n",
    "# Preprocess data\n",
    "tokenizer = Tokenizer(num_words=10000, oov_token='<OOV>')\n",
    "tokenizer.fit_on_texts(dsa['Ulasan'].astype(str))\n",
    "X = tokenizer.texts_to_sequences(tsa['ulasan'].astype(str))\n",
    "X = pad_sequences(X, maxlen=50, padding='post')\n",
    "\n",
    "# Make predictions\n",
    "predictions = k.predict(X)\n",
    "rounded_predictions = np.round(predictions).astype(int)\n",
    "\n",
    "accuracy = accuracy_score(tsa['kuliner'], rounded_predictions)\n",
    "report = classification_report(tsa['kuliner'], rounded_predictions)\n",
    "cm = confusion_matrix(tsa['kuliner'], rounded_predictions)\n",
    "\n",
    "print('Accuracy:', accuracy)\n",
    "print(cm)\n",
    "print(report)"
   ]
  },
  {
   "cell_type": "code",
   "execution_count": 11,
   "id": "c56a1f81",
   "metadata": {},
   "outputs": [
    {
     "name": "stdout",
     "output_type": "stream",
     "text": [
      "Accuracy: 0.9090909090909091\n",
      "[[78  2]\n",
      " [ 7 12]]\n",
      "              precision    recall  f1-score   support\n",
      "\n",
      "           0       0.92      0.97      0.95        80\n",
      "           1       0.86      0.63      0.73        19\n",
      "\n",
      "    accuracy                           0.91        99\n",
      "   macro avg       0.89      0.80      0.84        99\n",
      "weighted avg       0.91      0.91      0.90        99\n",
      "\n"
     ]
    }
   ],
   "source": [
    "# wahana\n",
    "# Preprocess data\n",
    "tokenizer = Tokenizer(num_words=10000, oov_token='<OOV>')\n",
    "tokenizer.fit_on_texts(dsa['Ulasan'].astype(str))\n",
    "X = tokenizer.texts_to_sequences(tsa['ulasan'].astype(str))\n",
    "X = pad_sequences(X, maxlen=50, padding='post')\n",
    "\n",
    "# Make predictions\n",
    "predictions = w.predict(X)\n",
    "rounded_predictions = np.round(predictions).astype(int)\n",
    "\n",
    "accuracy = accuracy_score(tsa['wahana'], rounded_predictions)\n",
    "report = classification_report(tsa['wahana'], rounded_predictions)\n",
    "cm = confusion_matrix(tsa['wahana'], rounded_predictions)\n",
    "\n",
    "print('Accuracy:', accuracy)\n",
    "print(cm)\n",
    "print(report)"
   ]
  },
  {
   "cell_type": "code",
   "execution_count": 12,
   "id": "801b7a13",
   "metadata": {},
   "outputs": [
    {
     "name": "stdout",
     "output_type": "stream",
     "text": [
      "Accuracy: 0.9595959595959596\n",
      "[[93  0]\n",
      " [ 4  2]]\n",
      "              precision    recall  f1-score   support\n",
      "\n",
      "           0       0.96      1.00      0.98        93\n",
      "           1       1.00      0.33      0.50         6\n",
      "\n",
      "    accuracy                           0.96        99\n",
      "   macro avg       0.98      0.67      0.74        99\n",
      "weighted avg       0.96      0.96      0.95        99\n",
      "\n"
     ]
    }
   ],
   "source": [
    "# pelayanan\n",
    "# Preprocess data\n",
    "tokenizer = Tokenizer(num_words=10000, oov_token='<OOV>')\n",
    "tokenizer.fit_on_texts(dsa['Ulasan'].astype(str))\n",
    "X = tokenizer.texts_to_sequences(tsa['ulasan'].astype(str))\n",
    "X = pad_sequences(X, maxlen=50, padding='post')\n",
    "\n",
    "# Make predictions\n",
    "predictions = p.predict(X)\n",
    "rounded_predictions = np.round(predictions).astype(int)\n",
    "\n",
    "accuracy = accuracy_score(tsa['pelayanan'], rounded_predictions)\n",
    "report = classification_report(tsa['pelayanan'], rounded_predictions)\n",
    "cm = confusion_matrix(tsa['pelayanan'], rounded_predictions)\n",
    "\n",
    "print('Accuracy:', accuracy)\n",
    "print(cm)\n",
    "print(report)"
   ]
  },
  {
   "cell_type": "code",
   "execution_count": 13,
   "id": "c95a34e7",
   "metadata": {},
   "outputs": [
    {
     "name": "stdout",
     "output_type": "stream",
     "text": [
      "Accuracy: 0.7474747474747475\n",
      "[[55 18]\n",
      " [ 7 19]]\n",
      "              precision    recall  f1-score   support\n",
      "\n",
      "           0       0.89      0.75      0.81        73\n",
      "           1       0.51      0.73      0.60        26\n",
      "\n",
      "    accuracy                           0.75        99\n",
      "   macro avg       0.70      0.74      0.71        99\n",
      "weighted avg       0.79      0.75      0.76        99\n",
      "\n"
     ]
    }
   ],
   "source": [
    "# fasilitas\n",
    "# Preprocess data\n",
    "tokenizer = Tokenizer(num_words=10000, oov_token='<OOV>')\n",
    "tokenizer.fit_on_texts(dsa['Ulasan'].astype(str))\n",
    "X = tokenizer.texts_to_sequences(tsa['ulasan'].astype(str))\n",
    "X = pad_sequences(X, maxlen=50, padding='post')\n",
    "\n",
    "# Make predictions\n",
    "predictions = f.predict(X)\n",
    "rounded_predictions = np.round(predictions).astype(int)\n",
    "\n",
    "accuracy = accuracy_score(tsa['fasilitas'], rounded_predictions)\n",
    "report = classification_report(tsa['fasilitas'], rounded_predictions)\n",
    "cm = confusion_matrix(tsa['fasilitas'], rounded_predictions)\n",
    "\n",
    "print('Accuracy:', accuracy)\n",
    "print(cm)\n",
    "print(report)"
   ]
  }
 ],
 "metadata": {
  "kernelspec": {
   "display_name": "Python 3",
   "language": "python",
   "name": "python3"
  },
  "language_info": {
   "codemirror_mode": {
    "name": "ipython",
    "version": 3
   },
   "file_extension": ".py",
   "mimetype": "text/x-python",
   "name": "python",
   "nbconvert_exporter": "python",
   "pygments_lexer": "ipython3",
   "version": "3.8.8"
  }
 },
 "nbformat": 4,
 "nbformat_minor": 5
}
