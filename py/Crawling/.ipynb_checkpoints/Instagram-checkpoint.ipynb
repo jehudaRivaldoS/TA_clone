{
 "cells": [
  {
   "cell_type": "code",
   "execution_count": 1,
   "id": "aed01318",
   "metadata": {},
   "outputs": [
    {
     "name": "stderr",
     "output_type": "stream",
     "text": [
      "D:\\Anaconda\\lib\\site-packages\\win_unicode_console\\__init__.py:31: RuntimeWarning: sys.stdin.encoding == 'cp1252', whereas sys.stdout.encoding == 'UTF-8', readline hook consumer may assume they are the same\n",
      "  readline_hook.enable(use_pyreadline=use_pyreadline)\n"
     ]
    }
   ],
   "source": [
    "import time\n",
    "import instaloader"
   ]
  },
  {
   "cell_type": "code",
   "execution_count": 2,
   "id": "fb3cc4ec",
   "metadata": {},
   "outputs": [],
   "source": [
    "import datetime"
   ]
  },
  {
   "cell_type": "code",
   "execution_count": 3,
   "id": "298c0e59",
   "metadata": {},
   "outputs": [],
   "source": [
    "start_date = '2021-01-01'\n",
    "end_date = '2023-03-31'\n",
    "\n",
    "L = instaloader.Instaloader()\n",
    "\n",
    "L.login(\"tes123135\", \"tes0987654321\")\n",
    "\n",
    "time.sleep(3)"
   ]
  },
  {
   "cell_type": "code",
   "execution_count": 4,
   "id": "4a5b6901",
   "metadata": {},
   "outputs": [],
   "source": [
    "#Get username sumber gempong 5 post terakhir\n",
    "username = \"sumbergempong.id\"\n",
    "commentCount = 0\n",
    "profile = instaloader.Profile.from_username(L.context,username)\n",
    "posts = profile.get_posts()\n",
    "time.sleep(3)"
   ]
  },
  {
   "cell_type": "code",
   "execution_count": 5,
   "id": "218b925c",
   "metadata": {},
   "outputs": [],
   "source": [
    "start_date = datetime.date(2021, 4, 1)\n",
    "end_date = datetime.date(2023, 5, 30)"
   ]
  },
  {
   "cell_type": "code",
   "execution_count": 6,
   "id": "24390d88",
   "metadata": {},
   "outputs": [
    {
     "name": "stdout",
     "output_type": "stream",
     "text": [
      "@hel_put ndok kene loh pa\n",
      "Siang ini hujan kah d sana...\n"
     ]
    }
   ],
   "source": [
    "com = 0\n",
    "commentss = {'comments': [], 'date': str(post.date)}\n",
    "for post in posts:    \n",
    "    comments = post.get_comments()\n",
    "#     print(\"Komentar dari postingan\", post.url)\n",
    "#     print(\"-----------------------------\")\n",
    "    com = com + 1\n",
    "    for comment in comments:\n",
    "        if start_date <= comment.created_at_utc.date() <= end_date:\n",
    "            print(comment.text)\n",
    "            commentss['comments'].append({'text': comment.text, 'time': str(comment.created_at)})            \n",
    "#     print(\"-----------------------------\")\n",
    "    time.sleep(2) \n",
    "    if com == 2:\n",
    "        break"
   ]
  },
  {
   "cell_type": "code",
   "execution_count": 13,
   "id": "a96f47b4",
   "metadata": {},
   "outputs": [
    {
     "name": "stdout",
     "output_type": "stream",
     "text": [
      "[{'comments': '@hel_put ndok kene loh pa'}, {'date': datetime.date(2023, 4, 30)}, {'comments': 'Siang ini hujan kah d sana...'}, {'date': datetime.date(2023, 4, 29)}]\n"
     ]
    }
   ],
   "source": [
    "print(commentss)"
   ]
  }
 ],
 "metadata": {
  "kernelspec": {
   "display_name": "Python 3",
   "language": "python",
   "name": "python3"
  },
  "language_info": {
   "codemirror_mode": {
    "name": "ipython",
    "version": 3
   },
   "file_extension": ".py",
   "mimetype": "text/x-python",
   "name": "python",
   "nbconvert_exporter": "python",
   "pygments_lexer": "ipython3",
   "version": "3.8.8"
  }
 },
 "nbformat": 4,
 "nbformat_minor": 5
}
