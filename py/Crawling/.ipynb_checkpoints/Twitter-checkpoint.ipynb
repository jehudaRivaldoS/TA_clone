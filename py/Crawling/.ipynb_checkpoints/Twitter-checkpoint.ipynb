{
 "cells": [
  {
   "cell_type": "code",
   "execution_count": null,
   "id": "754446cb",
   "metadata": {},
   "outputs": [],
   "source": [
    "import tweepy\n",
    "\n",
    "# Set up your Twitter API keys\n",
    "consumer_key = 'your_consumer_key'\n",
    "consumer_secret = 'your_consumer_secret'\n",
    "access_token = '1651598550420291584-fhryHk3a37CiesIzCOcUgjDZyDqv6P'\n",
    "access_token_secret = 'OcI9wz10KFSoXAVQXVs8mIVQBb2hhYhErSpaGs1eY7cnq'\n",
    "\n",
    "# Authenticate with Twitter\n",
    "auth = tweepy.OAuthHandler(consumer_key, consumer_secret)\n",
    "auth.set_access_token(access_token, access_token_secret)\n",
    "\n",
    "# Create a Tweepy API instance\n",
    "api = tweepy.API(auth)\n",
    "\n",
    "# Search for tweets containing a specific keyword\n",
    "search_results = api.search(q='sumber gempong', count=10)\n",
    "\n",
    "# Loop through each tweet and print its text\n",
    "for tweet in search_results:\n",
    "    print(tweet.text)"
   ]
  }
 ],
 "metadata": {
  "kernelspec": {
   "display_name": "Python 3",
   "language": "python",
   "name": "python3"
  },
  "language_info": {
   "codemirror_mode": {
    "name": "ipython",
    "version": 3
   },
   "file_extension": ".py",
   "mimetype": "text/x-python",
   "name": "python",
   "nbconvert_exporter": "python",
   "pygments_lexer": "ipython3",
   "version": "3.8.8"
  }
 },
 "nbformat": 4,
 "nbformat_minor": 5
}
